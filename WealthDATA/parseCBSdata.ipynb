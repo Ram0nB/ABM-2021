{
 "cells": [
  {
   "cell_type": "markdown",
   "metadata": {},
   "source": [
    "https://www.cbs.nl/nl-nl/dossier/nederland-regionaal/geografische-data/kaart-van-100-meter-bij-100-meter-met-statistieken\n",
    "\n",
    "download: \"Statistische gegevens per vierkant 2018 (Shape)\" from https://www.cbs.nl/-/media/cbs/dossiers/nederland-regionaal/vierkanten/2020-cbs_vk100_2018_v2_shape.zip and unzip in current folder."
   ]
  },
  {
   "cell_type": "markdown",
   "metadata": {},
   "source": [
    "# import packages"
   ]
  },
  {
   "cell_type": "code",
   "execution_count": 1,
   "metadata": {},
   "outputs": [],
   "source": [
    "# https://pypi.org/project/rijksdriehoek/\n",
    "# !pip install rijksdriehoek\n",
    "# !pip install simpledbf\n",
    "from rijksdriehoek import rijksdriehoek\n",
    "import pandas as pd\n",
    "from simpledbf import Dbf5\n",
    "import matplotlib.pyplot as plt\n",
    "import numpy as np\n",
    "from skimage.transform import resize"
   ]
  },
  {
   "cell_type": "code",
   "execution_count": 2,
   "metadata": {},
   "outputs": [
    {
     "name": "stdout",
     "output_type": "stream",
     "text": [
      "(1220.966250653319, 4867.446281807253)\n"
     ]
    }
   ],
   "source": [
    "# rd = rijksdriehoek.Rijksdriehoek()\n",
    "# print(\"Original coordinates in WGS’84: {},{}\".format(str(52.3761973), str(4.8936216)))\n",
    "# rd.from_wgs(52.3761973, 4.8936216)\n",
    "# print(\"Rijksdriehoek: {},{}\".format(str(rd.rd_x), str(rd.rd_y)))\n",
    "# lat, lon = rd.to_wgs()\n",
    "# print(\"WGS’84 coordinates converted from RD: {},{}\".format(str(lat), str(lon)))\n",
    "\n",
    "def WGS84toRD(North, East):\n",
    "    \"\"\"\n",
    "    Convert WGS'84 coordinates to Rijksdriehoek x and y system per 100 meter\n",
    "    \"\"\"\n",
    "    rd = rijksdriehoek.Rijksdriehoek()\n",
    "    rd.from_wgs(North, East)\n",
    "    return rd.rd_x/100, rd.rd_y/100\n",
    "\n",
    "print(WGS84toRD(52.3676, 4.9041))"
   ]
  },
  {
   "cell_type": "markdown",
   "metadata": {},
   "source": [
    "# load data"
   ]
  },
  {
   "cell_type": "code",
   "execution_count": 3,
   "metadata": {},
   "outputs": [
    {
     "name": "stdout",
     "output_type": "stream",
     "text": [
      "C28992R100 INWONER MAN VROUW INW_014 INW_1524 INW_2544 INW_4564 INW_65PL GEBOORTE P_NL_ACHTG P_WE_MIG_A P_NW_MIG_A AANTAL_HH TOTHH_EENP TOTHH_MPZK HH_EENOUD HH_TWEEOUD GEM_HH_GR WONING WONVOOR45 WON_4564 WON_6574 WON_7584 WON_8594 WON_9504 WON_0514 WON_1524 WON_MRGEZ P_HUURWON P_KOOPWON WON_HCORP WON_NBEW WOZWONING G_GAS_WON G_ELEK_WON UITKMINAOW AFS_SUPERM AV1_SUPERM AV3_SUPERM AV5_SUPERM AFS_DAGLMD AV1_DAGLMD AV3_DAGLMD AV5_DAGLMD AFS_WARENH AV5_WARENH AV10WARENH AV20WARENH AFS_CAFE AV1_CAFE AV3_CAFE AV5_CAFE AFS_CAFTAR AV1_CAFTAR AV3_CAFTAR AV5_CAFTAR AFS_HOTEL AV5_HOTEL AV10_HOTEL AV20_HOTEL AFS_RESTAU AV1_RESTAU AV3_RESTAU AV5_RESTAU AFS_BSO AV1_BSO AV3_BSO AV5_BSO AFS_KDV AV1_KDV AV3_KDV AV5_KDV AFS_BRANDW AFS_OPRIT AFS_TRNOVS AFS_TREINS AFS_ATTRAC AV10ATTRAC AV20ATTRAC AV50ATTRAC AFS_BIOS AV5_BIOS AV10_BIOS AV20_BIOS AFS_MUS AV5_MUS AV10_MUS AV20_MUS AFS_PODIUM AV5_PODIUM AV10PODIUM AV20PODIUM AFS_BIBLIO AF_IJSBAAN AFS_POP AFS_SAUNA AFS_ZONBNK AFS_ZWEMB AFS_ONDBAS AV1_ONDBAS AV3_ONDBAS AV5_ONDBAS AFS_ONDHV AV3_ONDHV AV5_ONDHV AV10_ONDHV AFS_ONDVMB AV3_ONDVMB AV5_ONDVMB AV10ONDVMB AFS_ONDVRT AV3_ONDVRT AV5_ONDVRT AV10ONDVRT AFS_HAPRAK AV1_HAPRAK AV3_HAPRAK AV5_HAPRAK AFS_ZIEK_E AV5_ZIEK_E AV10ZIEK_E AV20ZIEK_E AFS_ZIEK_I AV5_ZIEK_I AV10ZIEK_I AV20ZIEK_I AFS_APOTH AFS_HAPOST "
     ]
    }
   ],
   "source": [
    "dbf = Dbf5('CBS_VK100_2018_v2.dbf')\n",
    "df = dbf.to_dataframe()\n",
    "for col in df.columns:\n",
    "    print(col, end=\" \")"
   ]
  },
  {
   "cell_type": "code",
   "execution_count": 6,
   "metadata": {},
   "outputs": [
    {
     "name": "stdout",
     "output_type": "stream",
     "text": [
      "253750 original data points\n",
      "6402 data points after cropping the desired area\n"
     ]
    },
    {
     "name": "stderr",
     "output_type": "stream",
     "text": [
      "<ipython-input-6-d7f8c4cd8846>:14: SettingWithCopyWarning: \n",
      "A value is trying to be set on a copy of a slice from a DataFrame.\n",
      "Try using .loc[row_indexer,col_indexer] = value instead\n",
      "\n",
      "See the caveats in the documentation: https://pandas.pydata.org/pandas-docs/stable/user_guide/indexing.html#returning-a-view-versus-a-copy\n",
      "  data[\"x\"] = x\n",
      "<ipython-input-6-d7f8c4cd8846>:15: SettingWithCopyWarning: \n",
      "A value is trying to be set on a copy of a slice from a DataFrame.\n",
      "Try using .loc[row_indexer,col_indexer] = value instead\n",
      "\n",
      "See the caveats in the documentation: https://pandas.pydata.org/pandas-docs/stable/user_guide/indexing.html#returning-a-view-versus-a-copy\n",
      "  data[\"y\"] = y\n"
     ]
    },
    {
     "data": {
      "text/html": [
       "<div>\n",
       "<style scoped>\n",
       "    .dataframe tbody tr th:only-of-type {\n",
       "        vertical-align: middle;\n",
       "    }\n",
       "\n",
       "    .dataframe tbody tr th {\n",
       "        vertical-align: top;\n",
       "    }\n",
       "\n",
       "    .dataframe thead th {\n",
       "        text-align: right;\n",
       "    }\n",
       "</style>\n",
       "<table border=\"1\" class=\"dataframe\">\n",
       "  <thead>\n",
       "    <tr style=\"text-align: right;\">\n",
       "      <th></th>\n",
       "      <th>x</th>\n",
       "      <th>y</th>\n",
       "      <th>WOZWONING</th>\n",
       "    </tr>\n",
       "  </thead>\n",
       "  <tbody>\n",
       "    <tr>\n",
       "      <th>0</th>\n",
       "      <td>1154</td>\n",
       "      <td>4942</td>\n",
       "      <td>215</td>\n",
       "    </tr>\n",
       "    <tr>\n",
       "      <th>1</th>\n",
       "      <td>1155</td>\n",
       "      <td>4942</td>\n",
       "      <td>207</td>\n",
       "    </tr>\n",
       "    <tr>\n",
       "      <th>2</th>\n",
       "      <td>1156</td>\n",
       "      <td>4942</td>\n",
       "      <td>217</td>\n",
       "    </tr>\n",
       "    <tr>\n",
       "      <th>3</th>\n",
       "      <td>1167</td>\n",
       "      <td>4942</td>\n",
       "      <td>193</td>\n",
       "    </tr>\n",
       "    <tr>\n",
       "      <th>4</th>\n",
       "      <td>1168</td>\n",
       "      <td>4942</td>\n",
       "      <td>201</td>\n",
       "    </tr>\n",
       "    <tr>\n",
       "      <th>...</th>\n",
       "      <td>...</td>\n",
       "      <td>...</td>\n",
       "      <td>...</td>\n",
       "    </tr>\n",
       "    <tr>\n",
       "      <th>6397</th>\n",
       "      <td>1265</td>\n",
       "      <td>4793</td>\n",
       "      <td>190</td>\n",
       "    </tr>\n",
       "    <tr>\n",
       "      <th>6398</th>\n",
       "      <td>1266</td>\n",
       "      <td>4793</td>\n",
       "      <td>234</td>\n",
       "    </tr>\n",
       "    <tr>\n",
       "      <th>6399</th>\n",
       "      <td>1267</td>\n",
       "      <td>4793</td>\n",
       "      <td>252</td>\n",
       "    </tr>\n",
       "    <tr>\n",
       "      <th>6400</th>\n",
       "      <td>1277</td>\n",
       "      <td>4793</td>\n",
       "      <td>155</td>\n",
       "    </tr>\n",
       "    <tr>\n",
       "      <th>6401</th>\n",
       "      <td>1282</td>\n",
       "      <td>4793</td>\n",
       "      <td>274</td>\n",
       "    </tr>\n",
       "  </tbody>\n",
       "</table>\n",
       "<p>6402 rows × 3 columns</p>\n",
       "</div>"
      ],
      "text/plain": [
       "         x     y  WOZWONING\n",
       "0     1154  4942        215\n",
       "1     1155  4942        207\n",
       "2     1156  4942        217\n",
       "3     1167  4942        193\n",
       "4     1168  4942        201\n",
       "...    ...   ...        ...\n",
       "6397  1265  4793        190\n",
       "6398  1266  4793        234\n",
       "6399  1267  4793        252\n",
       "6400  1277  4793        155\n",
       "6401  1282  4793        274\n",
       "\n",
       "[6402 rows x 3 columns]"
      ]
     },
     "execution_count": 6,
     "metadata": {},
     "output_type": "execute_result"
    }
   ],
   "source": [
    "x_lower = WGS84toRD(52.3676, 4.9041)[0] - 75\n",
    "x_upper = WGS84toRD(52.3676, 4.9041)[0] + 75\n",
    "y_lower = WGS84toRD(52.3676, 4.9041)[1] - 75\n",
    "y_upper = WGS84toRD(52.3676, 4.9041)[1] + 75\n",
    "\n",
    "data = df.loc[df[\"WOZWONING\"] > 0]\n",
    "coordinates = data[\"C28992R100\"].tolist()\n",
    "x = []\n",
    "y = []\n",
    "for coord in coordinates[:]:\n",
    "    x.append(int(coord[1:5]))\n",
    "    y.append(int(coord[6:11]))\n",
    "\n",
    "data[\"x\"] = x\n",
    "data[\"y\"] = y\n",
    "data = data[[\"x\", \"y\", \"WOZWONING\"]]\n",
    "print(len(data), \"original data points\")\n",
    "data = data.loc[(data[\"x\"] > x_lower) & (data[\"x\"] < x_upper)]\n",
    "data = data.loc[(data[\"y\"] > y_lower) & (data[\"y\"] < y_upper)]\n",
    "data.reset_index(drop=True, inplace=True)\n",
    "print(len(data), \"data points after cropping the desired area\")\n",
    "data\n",
    "\n",
    "# plt.scatter(data[\"x\"].tolist(), data[\"y\"].tolist(), color=\"black\", s=1)\n",
    "# plt.show()"
   ]
  },
  {
   "cell_type": "code",
   "execution_count": 7,
   "metadata": {},
   "outputs": [
    {
     "data": {
      "image/png": "[encoded data removed]",
      "text/plain": [
       "<Figure size 432x288 with 1 Axes>"
      ]
     },
     "metadata": {
      "needs_background": "light"
     },
     "output_type": "display_data"
    }
   ],
   "source": [
    "WOZ = data[\"WOZWONING\"].tolist()\n",
    "plt.hist(WOZ, bins=30)\n",
    "plt.show()"
   ]
  },
  {
   "cell_type": "markdown",
   "metadata": {},
   "source": [
    "# create np wealth matrix"
   ]
  },
  {
   "cell_type": "code",
   "execution_count": 13,
   "metadata": {
    "scrolled": true
   },
   "outputs": [
    {
     "data": {
      "image/png": "[encoded data removed]",
      "text/plain": [
       "<Figure size 360x360 with 1 Axes>"
      ]
     },
     "metadata": {
      "needs_background": "light"
     },
     "output_type": "display_data"
    }
   ],
   "source": [
    "def normalise(wealth, max_wealth):\n",
    "    current_max = np.amax(wealth)\n",
    "    wealth = wealth / current_max * max_wealth\n",
    "    return wealth\n",
    "\n",
    "x_min = min(data[\"x\"].tolist())\n",
    "x_max = max(data[\"x\"].tolist())\n",
    "y_min = min(data[\"y\"].tolist())\n",
    "y_max = max(data[\"y\"].tolist())\n",
    "WOZ_min = min(data[\"WOZWONING\"].tolist())\n",
    "WOZ_max = max(data[\"WOZWONING\"].tolist())\n",
    "\n",
    "wealth = np.full((int(x_max-x_min), int(y_max-y_min)), 0)\n",
    "\n",
    "for ind in data.index:\n",
    "    wealth[data[\"x\"][ind]-x_min-1][data[\"y\"][ind]-y_min-1] = (data[\"WOZWONING\"][ind] - WOZ_min) # / (WOZ_max - WOZ_min) * wealth_max\n",
    "wealth_original = np.rot90(wealth, 1)\n",
    "\n",
    "plt.rcParams[\"figure.figsize\"] = [5, 5]\n",
    "plt.matshow(wealth_original, cmap=\"hot\")\n",
    "plt.axis(\"off\")\n",
    "plt.show()\n",
    "\n",
    "# # save data to txt file\n",
    "# for gridsize in np.linspace(10, 200, 191, dtype=int):\n",
    "#     for wealth_max in np.linspace(4, 50, 47, dtype=int):\n",
    "\n",
    "#         wealth = resize(wealth_original, (gridsize, gridsize), anti_aliasing = False)\n",
    "#         wealth = normalise(wealth, wealth_max).astype(int)\n",
    "#         np.savetxt(f\"AmsMaps/SugerMapAms_Grid-{gridsize}-Max-{wealth_max}.txt\", wealth, delimiter=' ')\n"
   ]
  },
  {
   "cell_type": "code",
   "execution_count": null,
   "metadata": {},
   "outputs": [],
   "source": []
  }
 ],
 "metadata": {
  "kernelspec": {
   "display_name": "Python 3",
   "language": "python",
   "name": "python3"
  },
  "language_info": {
   "codemirror_mode": {
    "name": "ipython",
    "version": 3
   },
   "file_extension": ".py",
   "mimetype": "text/x-python",
   "name": "python",
   "nbconvert_exporter": "python",
   "pygments_lexer": "ipython3",
   "version": "3.8.5"
  }
 },
 "nbformat": 4,
 "nbformat_minor": 4
}
