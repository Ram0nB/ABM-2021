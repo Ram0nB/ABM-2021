{
 "cells": [
  {
   "cell_type": "code",
   "execution_count": 11,
   "metadata": {},
   "outputs": [],
   "source": [
    "import matplotlib.pyplot as plt\n",
    "import pandas as pd\n",
    "import numpy as np\n",
    "from os import listdir\n",
    "from os.path import isfile, join\n",
    "import ineqpy\n",
    "import seaborn as sns\n",
    "\n",
    "DATA_dir = \"sugarscape/data/\""
   ]
  },
  {
   "cell_type": "code",
   "execution_count": 12,
   "metadata": {},
   "outputs": [],
   "source": [
    "def load_data(experiment):\n",
    "\n",
    "    data_filenames = [f for f in listdir(DATA_dir) if isfile(join(DATA_dir, f))]\n",
    "    data_filenames = [f for f in data_filenames if f.startswith(f\"{experiment}\")]\n",
    "\n",
    "    print(len(data_filenames), \"files found:\", data_filenames)\n",
    "    \n",
    "    df_concat_list = []\n",
    "    run = 0\n",
    "    print(len(data_filenames), \"To load, files loaded: \", end=\"\")\n",
    "    for i, data_filename in enumerate(data_filenames):\n",
    "        df = pd.read_csv(DATA_dir + data_filename)\n",
    "        df.insert(0, \"Run\", run)\n",
    "        run += 1\n",
    "\n",
    "        for step in set(df[\"Step\"].tolist()):\n",
    "            wealth = np.array( df.loc[(df.Step == step)][\"Wealth\"].tolist() )\n",
    "            gini = ineqpy.gini(np.array(wealth))\n",
    "            df.loc[(df.Step == step), \"Gini\"] = gini\n",
    "\n",
    "        df_concat_list.append(df)\n",
    "\n",
    "        print(i, end=\" \")\n",
    "\n",
    "    data_raw = pd.concat(df_concat_list)\n",
    "    del df_concat_list\n",
    "    del run\n",
    "    \n",
    "#     print(data_raw)\n",
    "    \n",
    "    data = data_raw.loc[(data_raw.Step >= 199)].groupby([\"Run\"]).mean().reset_index()\n",
    "    # data = data[[\"Run\", \"Step\", \"Gini\"]]\n",
    "    return data"
   ]
  },
  {
   "cell_type": "markdown",
   "metadata": {},
   "source": [
    "# test data"
   ]
  },
  {
   "cell_type": "code",
   "execution_count": 13,
   "metadata": {},
   "outputs": [
    {
     "name": "stdout",
     "output_type": "stream",
     "text": [
      "18 files found: ['test_2021-01-28_19.53_17563.csv', 'test_2021-01-28_19.54_31848.csv', 'test_2021-01-28_19.54_43492.csv', 'test_2021-01-28_19.54_46358.csv', 'test_2021-01-28_19.54_47536.csv', 'test_2021-01-28_19.54_56385.csv', 'test_2021-01-28_19.54_56867.csv', 'test_2021-01-28_19.54_58983.csv', 'test_2021-01-28_19.54_61335.csv', 'test_2021-01-28_19.54_86132.csv', 'test_2021-01-28_19.54_95227.csv', 'test_2021-01-28_19.54_95296.csv', 'test_2021-01-28_19.54_99619.csv', 'test_2021-01-28_19.55_25473.csv', 'test_2021-01-28_19.55_35658.csv', 'test_2021-01-28_19.55_36536.csv', 'test_2021-01-28_19.55_44537.csv', 'test_2021-01-28_19.55_79491.csv']\n",
      "18 To load, files loaded: 0 1 2 3 4 5 6 7 8 9 10 11 12 13 14 15 16 17 "
     ]
    },
    {
     "data": {
      "text/html": [
       "<div>\n",
       "<style scoped>\n",
       "    .dataframe tbody tr th:only-of-type {\n",
       "        vertical-align: middle;\n",
       "    }\n",
       "\n",
       "    .dataframe tbody tr th {\n",
       "        vertical-align: top;\n",
       "    }\n",
       "\n",
       "    .dataframe thead th {\n",
       "        text-align: right;\n",
       "    }\n",
       "</style>\n",
       "<table border=\"1\" class=\"dataframe\">\n",
       "  <thead>\n",
       "    <tr style=\"text-align: right;\">\n",
       "      <th></th>\n",
       "      <th>Run</th>\n",
       "      <th>Step</th>\n",
       "      <th>Wealth</th>\n",
       "      <th>Vision</th>\n",
       "      <th>Tax Rate</th>\n",
       "      <th>Ams map</th>\n",
       "      <th>Death</th>\n",
       "      <th>Inst regrowth</th>\n",
       "      <th>Gini</th>\n",
       "    </tr>\n",
       "  </thead>\n",
       "  <tbody>\n",
       "    <tr>\n",
       "      <th>0</th>\n",
       "      <td>0</td>\n",
       "      <td>224</td>\n",
       "      <td>107839.200000</td>\n",
       "      <td>6</td>\n",
       "      <td>0.00</td>\n",
       "      <td>False</td>\n",
       "      <td>True</td>\n",
       "      <td>False</td>\n",
       "      <td>0.505501</td>\n",
       "    </tr>\n",
       "    <tr>\n",
       "      <th>1</th>\n",
       "      <td>1</td>\n",
       "      <td>224</td>\n",
       "      <td>137838.078431</td>\n",
       "      <td>6</td>\n",
       "      <td>0.50</td>\n",
       "      <td>False</td>\n",
       "      <td>True</td>\n",
       "      <td>False</td>\n",
       "      <td>0.404616</td>\n",
       "    </tr>\n",
       "    <tr>\n",
       "      <th>2</th>\n",
       "      <td>2</td>\n",
       "      <td>224</td>\n",
       "      <td>7459.286275</td>\n",
       "      <td>6</td>\n",
       "      <td>0.50</td>\n",
       "      <td>True</td>\n",
       "      <td>True</td>\n",
       "      <td>False</td>\n",
       "      <td>0.613689</td>\n",
       "    </tr>\n",
       "    <tr>\n",
       "      <th>3</th>\n",
       "      <td>3</td>\n",
       "      <td>224</td>\n",
       "      <td>3171.952941</td>\n",
       "      <td>6</td>\n",
       "      <td>0.50</td>\n",
       "      <td>True</td>\n",
       "      <td>True</td>\n",
       "      <td>False</td>\n",
       "      <td>0.401318</td>\n",
       "    </tr>\n",
       "    <tr>\n",
       "      <th>4</th>\n",
       "      <td>4</td>\n",
       "      <td>224</td>\n",
       "      <td>9929.743137</td>\n",
       "      <td>6</td>\n",
       "      <td>0.00</td>\n",
       "      <td>True</td>\n",
       "      <td>True</td>\n",
       "      <td>False</td>\n",
       "      <td>0.718052</td>\n",
       "    </tr>\n",
       "    <tr>\n",
       "      <th>5</th>\n",
       "      <td>5</td>\n",
       "      <td>224</td>\n",
       "      <td>3051.490196</td>\n",
       "      <td>6</td>\n",
       "      <td>0.25</td>\n",
       "      <td>True</td>\n",
       "      <td>True</td>\n",
       "      <td>False</td>\n",
       "      <td>0.459154</td>\n",
       "    </tr>\n",
       "    <tr>\n",
       "      <th>6</th>\n",
       "      <td>6</td>\n",
       "      <td>224</td>\n",
       "      <td>12149.554902</td>\n",
       "      <td>6</td>\n",
       "      <td>0.25</td>\n",
       "      <td>True</td>\n",
       "      <td>True</td>\n",
       "      <td>False</td>\n",
       "      <td>0.859826</td>\n",
       "    </tr>\n",
       "    <tr>\n",
       "      <th>7</th>\n",
       "      <td>7</td>\n",
       "      <td>224</td>\n",
       "      <td>80880.515686</td>\n",
       "      <td>6</td>\n",
       "      <td>0.25</td>\n",
       "      <td>False</td>\n",
       "      <td>True</td>\n",
       "      <td>False</td>\n",
       "      <td>0.616980</td>\n",
       "    </tr>\n",
       "    <tr>\n",
       "      <th>8</th>\n",
       "      <td>8</td>\n",
       "      <td>224</td>\n",
       "      <td>116961.490196</td>\n",
       "      <td>6</td>\n",
       "      <td>0.00</td>\n",
       "      <td>False</td>\n",
       "      <td>True</td>\n",
       "      <td>False</td>\n",
       "      <td>0.489524</td>\n",
       "    </tr>\n",
       "    <tr>\n",
       "      <th>9</th>\n",
       "      <td>9</td>\n",
       "      <td>224</td>\n",
       "      <td>119859.066667</td>\n",
       "      <td>6</td>\n",
       "      <td>0.00</td>\n",
       "      <td>False</td>\n",
       "      <td>True</td>\n",
       "      <td>False</td>\n",
       "      <td>0.666011</td>\n",
       "    </tr>\n",
       "    <tr>\n",
       "      <th>10</th>\n",
       "      <td>10</td>\n",
       "      <td>224</td>\n",
       "      <td>110322.143137</td>\n",
       "      <td>6</td>\n",
       "      <td>0.25</td>\n",
       "      <td>False</td>\n",
       "      <td>True</td>\n",
       "      <td>False</td>\n",
       "      <td>0.652159</td>\n",
       "    </tr>\n",
       "    <tr>\n",
       "      <th>11</th>\n",
       "      <td>11</td>\n",
       "      <td>224</td>\n",
       "      <td>3517.354902</td>\n",
       "      <td>6</td>\n",
       "      <td>0.00</td>\n",
       "      <td>True</td>\n",
       "      <td>True</td>\n",
       "      <td>False</td>\n",
       "      <td>0.337302</td>\n",
       "    </tr>\n",
       "    <tr>\n",
       "      <th>12</th>\n",
       "      <td>12</td>\n",
       "      <td>224</td>\n",
       "      <td>128237.321569</td>\n",
       "      <td>6</td>\n",
       "      <td>0.50</td>\n",
       "      <td>False</td>\n",
       "      <td>True</td>\n",
       "      <td>False</td>\n",
       "      <td>0.558800</td>\n",
       "    </tr>\n",
       "    <tr>\n",
       "      <th>13</th>\n",
       "      <td>13</td>\n",
       "      <td>224</td>\n",
       "      <td>12254.715686</td>\n",
       "      <td>6</td>\n",
       "      <td>0.50</td>\n",
       "      <td>True</td>\n",
       "      <td>True</td>\n",
       "      <td>False</td>\n",
       "      <td>0.759843</td>\n",
       "    </tr>\n",
       "    <tr>\n",
       "      <th>14</th>\n",
       "      <td>14</td>\n",
       "      <td>224</td>\n",
       "      <td>3660.790196</td>\n",
       "      <td>6</td>\n",
       "      <td>0.25</td>\n",
       "      <td>True</td>\n",
       "      <td>True</td>\n",
       "      <td>False</td>\n",
       "      <td>0.365805</td>\n",
       "    </tr>\n",
       "    <tr>\n",
       "      <th>15</th>\n",
       "      <td>15</td>\n",
       "      <td>224</td>\n",
       "      <td>149489.123529</td>\n",
       "      <td>6</td>\n",
       "      <td>0.50</td>\n",
       "      <td>False</td>\n",
       "      <td>True</td>\n",
       "      <td>False</td>\n",
       "      <td>0.579183</td>\n",
       "    </tr>\n",
       "    <tr>\n",
       "      <th>16</th>\n",
       "      <td>16</td>\n",
       "      <td>224</td>\n",
       "      <td>110132.745098</td>\n",
       "      <td>6</td>\n",
       "      <td>0.25</td>\n",
       "      <td>False</td>\n",
       "      <td>True</td>\n",
       "      <td>False</td>\n",
       "      <td>0.570960</td>\n",
       "    </tr>\n",
       "    <tr>\n",
       "      <th>17</th>\n",
       "      <td>17</td>\n",
       "      <td>224</td>\n",
       "      <td>3834.809804</td>\n",
       "      <td>6</td>\n",
       "      <td>0.00</td>\n",
       "      <td>True</td>\n",
       "      <td>True</td>\n",
       "      <td>False</td>\n",
       "      <td>0.440993</td>\n",
       "    </tr>\n",
       "  </tbody>\n",
       "</table>\n",
       "</div>"
      ],
      "text/plain": [
       "    Run  Step         Wealth  Vision  Tax Rate  Ams map  Death  Inst regrowth  \\\n",
       "0     0   224  107839.200000       6      0.00    False   True          False   \n",
       "1     1   224  137838.078431       6      0.50    False   True          False   \n",
       "2     2   224    7459.286275       6      0.50     True   True          False   \n",
       "3     3   224    3171.952941       6      0.50     True   True          False   \n",
       "4     4   224    9929.743137       6      0.00     True   True          False   \n",
       "5     5   224    3051.490196       6      0.25     True   True          False   \n",
       "6     6   224   12149.554902       6      0.25     True   True          False   \n",
       "7     7   224   80880.515686       6      0.25    False   True          False   \n",
       "8     8   224  116961.490196       6      0.00    False   True          False   \n",
       "9     9   224  119859.066667       6      0.00    False   True          False   \n",
       "10   10   224  110322.143137       6      0.25    False   True          False   \n",
       "11   11   224    3517.354902       6      0.00     True   True          False   \n",
       "12   12   224  128237.321569       6      0.50    False   True          False   \n",
       "13   13   224   12254.715686       6      0.50     True   True          False   \n",
       "14   14   224    3660.790196       6      0.25     True   True          False   \n",
       "15   15   224  149489.123529       6      0.50    False   True          False   \n",
       "16   16   224  110132.745098       6      0.25    False   True          False   \n",
       "17   17   224    3834.809804       6      0.00     True   True          False   \n",
       "\n",
       "        Gini  \n",
       "0   0.505501  \n",
       "1   0.404616  \n",
       "2   0.613689  \n",
       "3   0.401318  \n",
       "4   0.718052  \n",
       "5   0.459154  \n",
       "6   0.859826  \n",
       "7   0.616980  \n",
       "8   0.489524  \n",
       "9   0.666011  \n",
       "10  0.652159  \n",
       "11  0.337302  \n",
       "12  0.558800  \n",
       "13  0.759843  \n",
       "14  0.365805  \n",
       "15  0.579183  \n",
       "16  0.570960  \n",
       "17  0.440993  "
      ]
     },
     "execution_count": 13,
     "metadata": {},
     "output_type": "execute_result"
    }
   ],
   "source": [
    "testdata = load_data(\"test\")\n",
    "testdata"
   ]
  },
  {
   "cell_type": "code",
   "execution_count": 14,
   "metadata": {},
   "outputs": [
    {
     "data": {
      "image/png": "[encoded data removed]",
      "text/plain": [
       "<Figure size 432x288 with 1 Axes>"
      ]
     },
     "metadata": {
      "needs_background": "light"
     },
     "output_type": "display_data"
    }
   ],
   "source": [
    "plt = sns.barplot(x=\"Tax Rate\", y=\"Gini\", hue=\"Ams map\", data=testdata, ci=95, n_boot=10000, errwidth=1.5, capsize=0.3)"
   ]
  },
  {
   "cell_type": "markdown",
   "metadata": {},
   "source": [
    "# Taxation"
   ]
  },
  {
   "cell_type": "code",
   "execution_count": 15,
   "metadata": {},
   "outputs": [
    {
     "name": "stdout",
     "output_type": "stream",
     "text": [
      "521 files found: ['taxation_2021-01-28_20.11_43759.csv', 'taxation_2021-01-28_20.13_94768.csv', 'taxation_2021-01-28_20.15_65890.csv', 'taxation_2021-01-28_20.16_96999.csv', 'taxation_2021-01-28_20.18_91681.csv', 'taxation_2021-01-28_20.19_59485.csv', 'taxation_2021-01-28_20.21_40036.csv', 'taxation_2021-01-28_20.23_33072.csv', 'taxation_2021-01-28_20.24_40232.csv', 'taxation_2021-01-28_20.26_94307.csv', 'taxation_2021-01-28_20.27_67661.csv', 'taxation_2021-01-28_20.29_31268.csv', 'taxation_2021-01-28_20.31_94331.csv', 'taxation_2021-01-28_20.32_23116.csv', 'taxation_2021-01-28_20.34_94663.csv', 'taxation_2021-01-28_20.35_32268.csv', 'taxation_2021-01-28_20.37_91307.csv', 'taxation_2021-01-28_20.39_74209.csv', 'taxation_2021-01-28_20.40_76514.csv', 'taxation_2021-01-28_20.42_22296.csv', 'taxation_2021-01-28_20.43_16113.csv', 'taxation_2021-01-28_20.45_48179.csv', 'taxation_2021-01-28_20.46_34290.csv', 'taxation_2021-01-28_20.48_47355.csv', 'taxation_2021-01-28_20.50_50389.csv', 'taxation_2021-01-28_20.51_18382.csv', 'taxation_2021-01-28_20.53_22834.csv', 'taxation_2021-01-28_20.54_45774.csv', 'taxation_2021-01-28_20.56_71726.csv', 'taxation_2021-01-28_20.58_52422.csv', 'taxation_2021-01-28_20.59_36203.csv', 'taxation_2021-01-28_21.01_98925.csv', 'taxation_2021-01-28_21.02_10883.csv', 'taxation_2021-01-28_21.04_28185.csv', 'taxation_2021-01-28_21.05_94955.csv', 'taxation_2021-01-28_21.07_74949.csv', 'taxation_2021-01-28_21.08_60677.csv', 'taxation_2021-01-28_21.10_87343.csv', 'taxation_2021-01-28_21.12_61380.csv', 'taxation_2021-01-28_21.13_92175.csv', 'taxation_2021-01-28_21.15_82833.csv', 'taxation_2021-01-28_21.17_48138.csv', 'taxation_2021-01-28_21.18_21462.csv', 'taxation_2021-01-28_21.20_83884.csv', 'taxation_2021-01-28_21.21_92690.csv', 'taxation_2021-01-28_21.23_26004.csv', 'taxation_2021-01-28_21.25_16418.csv', 'taxation_2021-01-28_21.26_64198.csv', 'taxation_2021-01-28_21.28_69469.csv', 'taxation_2021-01-28_21.30_23232.csv', 'taxation_2021-01-28_21.31_63969.csv', 'taxation_2021-01-28_21.33_51711.csv', 'taxation_2021-01-28_21.34_93290.csv', 'taxation_2021-01-28_21.36_61235.csv', 'taxation_2021-01-28_21.37_84817.csv', 'taxation_2021-01-28_21.39_17995.csv', 'taxation_2021-01-28_21.40_67644.csv', 'taxation_2021-01-28_21.42_51949.csv', 'taxation_2021-01-28_21.44_92252.csv', 'taxation_2021-01-28_21.45_52131.csv', 'taxation_2021-01-28_21.47_47266.csv', 'taxation_2021-01-28_21.49_95307.csv', 'taxation_2021-01-28_21.50_38981.csv', 'taxation_2021-01-28_21.52_31966.csv', 'taxation_2021-01-28_21.54_78275.csv', 'taxation_2021-01-28_21.55_49962.csv', 'taxation_2021-01-28_21.57_41107.csv', 'taxation_2021-01-28_21.59_18919.csv', 'taxation_2021-01-28_22.00_95159.csv', 'taxation_2021-01-28_22.02_71238.csv', 'taxation_2021-01-28_22.03_73424.csv', 'taxation_2021-01-28_22.05_87266.csv', 'taxation_2021-01-28_22.06_82082.csv', 'taxation_2021-01-28_22.08_50073.csv', 'taxation_2021-01-28_22.09_86559.csv', 'taxation_2021-01-28_22.11_52280.csv', 'taxation_2021-01-28_22.13_38418.csv', 'taxation_2021-01-28_22.14_90357.csv', 'taxation_2021-01-28_22.16_98538.csv', 'taxation_2021-01-28_22.18_94847.csv', 'taxation_2021-01-28_22.19_29336.csv', 'taxation_2021-01-28_22.21_70837.csv', 'taxation_2021-01-28_22.22_59846.csv', 'taxation_2021-01-28_22.24_54360.csv', 'taxation_2021-01-28_22.26_94664.csv', 'taxation_2021-01-28_22.27_26721.csv', 'taxation_2021-01-28_22.29_33307.csv', 'taxation_2021-01-28_22.30_21402.csv', 'taxation_2021-01-28_22.32_24216.csv', 'taxation_2021-01-28_22.34_35092.csv', 'taxation_2021-01-28_22.35_55477.csv', 'taxation_2021-01-28_22.37_64799.csv', 'taxation_2021-01-28_22.38_90545.csv', 'taxation_2021-01-28_22.40_68882.csv', 'taxation_2021-01-28_22.42_61870.csv', 'taxation_2021-01-28_22.43_25539.csv', 'taxation_2021-01-28_22.45_20966.csv', 'taxation_2021-01-28_22.47_25185.csv', 'taxation_2021-01-28_22.48_16340.csv', 'taxation_2021-01-28_22.50_39954.csv', 'taxation_2021-01-28_22.51_88618.csv', 'taxation_2021-01-28_22.53_37483.csv', 'taxation_2021-01-28_22.55_66391.csv', 'taxation_2021-01-28_22.56_84696.csv', 'taxation_2021-01-28_22.58_56413.csv', 'taxation_2021-01-28_22.59_47150.csv', 'taxation_2021-01-28_23.01_60173.csv', 'taxation_2021-01-28_23.03_36582.csv', 'taxation_2021-01-28_23.04_80031.csv', 'taxation_2021-01-28_23.06_17607.csv', 'taxation_2021-01-28_23.07_72571.csv', 'taxation_2021-01-28_23.09_49969.csv', 'taxation_2021-01-28_23.10_67006.csv', 'taxation_2021-01-28_23.12_56497.csv', 'taxation_2021-01-28_23.13_12771.csv', 'taxation_2021-01-28_23.15_33619.csv', 'taxation_2021-01-28_23.17_55415.csv', 'taxation_2021-01-28_23.18_78975.csv', 'taxation_2021-01-28_23.20_10511.csv', 'taxation_2021-01-28_23.21_80027.csv', 'taxation_2021-01-28_23.23_53977.csv', 'taxation_2021-01-28_23.24_98370.csv', 'taxation_2021-01-28_23.26_80501.csv', 'taxation_2021-01-28_23.29_26648.csv', 'taxation_2021-01-28_23.30_11182.csv', 'taxation_2021-01-28_23.32_94045.csv', 'taxation_2021-01-28_23.34_50761.csv', 'taxation_2021-01-28_23.35_49239.csv', 'taxation_2021-01-28_23.37_34940.csv', 'taxation_2021-01-28_23.38_79131.csv', 'taxation_2021-01-28_23.40_16556.csv', 'taxation_2021-01-28_23.41_93409.csv', 'taxation_2021-01-28_23.43_33087.csv', 'taxation_2021-01-28_23.45_67853.csv', 'taxation_2021-01-28_23.46_92911.csv', 'taxation_2021-01-28_23.48_47787.csv', 'taxation_2021-01-28_23.49_67343.csv', 'taxation_2021-01-28_23.51_32780.csv', 'taxation_2021-01-28_23.52_43684.csv', 'taxation_2021-01-28_23.54_26541.csv', 'taxation_2021-01-28_23.56_66029.csv', 'taxation_2021-01-28_23.57_12167.csv', 'taxation_2021-01-28_23.59_25612.csv', 'taxation_2021-01-29_00.00_91687.csv', 'taxation_2021-01-29_00.02_30479.csv', 'taxation_2021-01-29_00.04_74854.csv', 'taxation_2021-01-29_00.05_59708.csv', 'taxation_2021-01-29_00.07_96017.csv', 'taxation_2021-01-29_00.08_58653.csv', 'taxation_2021-01-29_00.10_85809.csv', 'taxation_2021-01-29_00.11_90091.csv', 'taxation_2021-01-29_00.13_96704.csv', 'taxation_2021-01-29_00.14_90702.csv', 'taxation_2021-01-29_00.16_58632.csv', 'taxation_2021-01-29_00.18_21074.csv', 'taxation_2021-01-29_00.19_86696.csv', 'taxation_2021-01-29_00.21_93317.csv', 'taxation_2021-01-29_00.22_63033.csv', 'taxation_2021-01-29_00.24_44439.csv', 'taxation_2021-01-29_00.25_59879.csv', 'taxation_2021-01-29_00.27_56330.csv', 'taxation_2021-01-29_00.29_89284.csv', 'taxation_2021-01-29_00.30_95307.csv', 'taxation_2021-01-29_00.32_18046.csv', 'taxation_2021-01-29_00.33_24359.csv', 'taxation_2021-01-29_00.35_36111.csv', 'taxation_2021-01-29_00.36_19295.csv', 'taxation_2021-01-29_00.38_40183.csv', 'taxation_2021-01-29_00.39_14296.csv', 'taxation_2021-01-29_00.41_76295.csv', 'taxation_2021-01-29_00.42_53655.csv', 'taxation_2021-01-29_00.44_66213.csv', 'taxation_2021-01-29_00.46_82011.csv', 'taxation_2021-01-29_00.47_54451.csv', 'taxation_2021-01-29_00.49_73968.csv', 'taxation_2021-01-29_00.50_41975.csv', 'taxation_2021-01-29_00.52_15236.csv', 'taxation_2021-01-29_00.53_41575.csv', 'taxation_2021-01-29_00.55_49412.csv', 'taxation_2021-01-29_00.57_35240.csv', 'taxation_2021-01-29_00.58_45421.csv', 'taxation_2021-01-29_01.00_80004.csv', 'taxation_2021-01-29_01.01_91345.csv', 'taxation_2021-01-29_01.03_30094.csv', 'taxation_2021-01-29_01.04_66456.csv', 'taxation_2021-01-29_01.06_95925.csv', 'taxation_2021-01-29_01.07_37578.csv', 'taxation_2021-01-29_01.09_73700.csv', 'taxation_2021-01-29_01.10_81187.csv', 'taxation_2021-01-29_01.12_15463.csv', 'taxation_2021-01-29_01.13_19455.csv', 'taxation_2021-01-29_01.15_77572.csv', 'taxation_2021-01-29_01.17_31510.csv', 'taxation_2021-01-29_01.18_89576.csv', 'taxation_2021-01-29_01.20_55311.csv', 'taxation_2021-01-29_01.21_91950.csv', 'taxation_2021-01-29_01.23_22686.csv', 'taxation_2021-01-29_01.24_66320.csv', 'taxation_2021-01-29_01.26_86477.csv', 'taxation_2021-01-29_01.27_26015.csv', 'taxation_2021-01-29_01.29_43023.csv', 'taxation_2021-01-29_01.31_13271.csv', 'taxation_2021-01-29_01.32_94656.csv', 'taxation_2021-01-29_01.34_69386.csv', 'taxation_2021-01-29_01.35_18041.csv', 'taxation_2021-01-29_01.37_29331.csv', 'taxation_2021-01-29_01.38_36834.csv', 'taxation_2021-01-29_01.40_12064.csv', 'taxation_2021-01-29_01.41_61930.csv', 'taxation_2021-01-29_01.43_46602.csv', 'taxation_2021-01-29_01.44_90576.csv', 'taxation_2021-01-29_01.46_45945.csv', 'taxation_2021-01-29_01.48_95146.csv', 'taxation_2021-01-29_01.49_79751.csv', 'taxation_2021-01-29_01.51_34646.csv', 'taxation_2021-01-29_01.52_39426.csv', 'taxation_2021-01-29_01.54_51542.csv', 'taxation_2021-01-29_01.55_38594.csv', 'taxation_2021-01-29_01.57_13880.csv', 'taxation_2021-01-29_01.58_90045.csv', 'taxation_2021-01-29_02.00_15301.csv', 'taxation_2021-01-29_02.02_51122.csv', 'taxation_2021-01-29_02.03_84534.csv', 'taxation_2021-01-29_02.05_71938.csv', 'taxation_2021-01-29_02.06_63437.csv', 'taxation_2021-01-29_02.08_71356.csv', 'taxation_2021-01-29_02.09_73691.csv', 'taxation_2021-01-29_02.11_85009.csv', 'taxation_2021-01-29_02.12_70274.csv', 'taxation_2021-01-29_02.14_67819.csv', 'taxation_2021-01-29_02.15_56915.csv', 'taxation_2021-01-29_02.17_73403.csv', 'taxation_2021-01-29_02.19_72314.csv', 'taxation_2021-01-29_02.20_55129.csv', 'taxation_2021-01-29_02.22_37893.csv', 'taxation_2021-01-29_02.23_92951.csv', 'taxation_2021-01-29_02.25_97184.csv', 'taxation_2021-01-29_02.26_21876.csv', 'taxation_2021-01-29_02.28_89890.csv', 'taxation_2021-01-29_02.29_88297.csv', 'taxation_2021-01-29_02.31_47424.csv', 'taxation_2021-01-29_02.33_32623.csv', 'taxation_2021-01-29_02.34_97774.csv', 'taxation_2021-01-29_02.36_40590.csv', 'taxation_2021-01-29_02.37_15065.csv', 'taxation_2021-01-29_02.39_85224.csv', 'taxation_2021-01-29_02.40_72416.csv', 'taxation_2021-01-29_02.42_88229.csv', 'taxation_2021-01-29_02.43_36883.csv', 'taxation_2021-01-29_02.45_77690.csv', 'taxation_2021-01-29_02.46_21032.csv', 'taxation_2021-01-29_02.48_48360.csv', 'taxation_2021-01-29_02.50_35298.csv', 'taxation_2021-01-29_02.51_65137.csv', 'taxation_2021-01-29_02.53_47223.csv', 'taxation_2021-01-29_02.54_62972.csv', 'taxation_2021-01-29_02.56_88235.csv', 'taxation_2021-01-29_02.57_48858.csv', 'taxation_2021-01-29_02.59_70295.csv', 'taxation_2021-01-29_03.01_85894.csv', 'taxation_2021-01-29_03.02_15388.csv', 'taxation_2021-01-29_03.04_44611.csv', 'taxation_2021-01-29_03.05_47371.csv', 'taxation_2021-01-29_03.07_65422.csv', 'taxation_2021-01-29_03.08_71668.csv', 'taxation_2021-01-29_03.10_63204.csv', 'taxation_2021-01-29_03.11_43164.csv', 'taxation_2021-01-29_03.13_36898.csv', 'taxation_2021-01-29_03.15_74669.csv', 'taxation_2021-01-29_03.16_75509.csv', 'taxation_2021-01-29_03.18_23832.csv', 'taxation_2021-01-29_03.19_34793.csv', 'taxation_2021-01-29_03.21_84009.csv', 'taxation_2021-01-29_03.22_35670.csv', 'taxation_2021-01-29_03.24_95784.csv', 'taxation_2021-01-29_03.25_69140.csv', 'taxation_2021-01-29_03.27_44969.csv', 'taxation_2021-01-29_03.29_49081.csv', 'taxation_2021-01-29_03.30_22318.csv', 'taxation_2021-01-29_03.32_74379.csv', 'taxation_2021-01-29_03.33_30793.csv', 'taxation_2021-01-29_03.35_48084.csv', 'taxation_2021-01-29_03.36_15402.csv', 'taxation_2021-01-29_03.38_25643.csv', 'taxation_2021-01-29_03.39_17809.csv', 'taxation_2021-01-29_03.41_93185.csv', 'taxation_2021-01-29_03.42_33426.csv', 'taxation_2021-01-29_03.44_45922.csv', 'taxation_2021-01-29_03.46_26151.csv', 'taxation_2021-01-29_03.47_52008.csv', 'taxation_2021-01-29_03.49_35907.csv', 'taxation_2021-01-29_03.50_13535.csv', 'taxation_2021-01-29_03.52_45498.csv', 'taxation_2021-01-29_03.53_90462.csv', 'taxation_2021-01-29_03.55_20471.csv', 'taxation_2021-01-29_03.56_99500.csv', 'taxation_2021-01-29_03.58_45897.csv', 'taxation_2021-01-29_03.59_22152.csv', 'taxation_2021-01-29_04.01_74306.csv', 'taxation_2021-01-29_04.03_42409.csv', 'taxation_2021-01-29_04.04_35305.csv', 'taxation_2021-01-29_04.06_12559.csv', 'taxation_2021-01-29_04.07_55802.csv', 'taxation_2021-01-29_04.09_80756.csv', 'taxation_2021-01-29_04.10_85474.csv', 'taxation_2021-01-29_04.12_49775.csv', 'taxation_2021-01-29_04.13_63894.csv', 'taxation_2021-01-29_04.15_17288.csv', 'taxation_2021-01-29_04.17_10897.csv', 'taxation_2021-01-29_04.18_35627.csv', 'taxation_2021-01-29_04.20_38288.csv', 'taxation_2021-01-29_04.21_93490.csv', 'taxation_2021-01-29_04.23_37678.csv', 'taxation_2021-01-29_04.24_98901.csv', 'taxation_2021-01-29_04.26_74992.csv', 'taxation_2021-01-29_04.27_63882.csv', 'taxation_2021-01-29_04.29_56893.csv', 'taxation_2021-01-29_04.31_84567.csv', 'taxation_2021-01-29_04.32_86773.csv', 'taxation_2021-01-29_04.34_60882.csv', 'taxation_2021-01-29_04.35_22269.csv', 'taxation_2021-01-29_04.37_69571.csv', 'taxation_2021-01-29_04.38_70921.csv', 'taxation_2021-01-29_04.40_48646.csv', 'taxation_2021-01-29_04.41_49116.csv', 'taxation_2021-01-29_04.43_92306.csv', 'taxation_2021-01-29_04.44_85997.csv', 'taxation_2021-01-29_04.46_26558.csv', 'taxation_2021-01-29_04.48_61807.csv', 'taxation_2021-01-29_04.49_34864.csv', 'taxation_2021-01-29_04.51_57078.csv', 'taxation_2021-01-29_04.52_55980.csv', 'taxation_2021-01-29_04.54_43833.csv', 'taxation_2021-01-29_04.55_85282.csv', 'taxation_2021-01-29_04.57_25584.csv', 'taxation_2021-01-29_04.58_74011.csv', 'taxation_2021-01-29_05.00_28642.csv', 'taxation_2021-01-29_05.01_50663.csv', 'taxation_2021-01-29_05.03_54936.csv', 'taxation_2021-01-29_05.05_89088.csv', 'taxation_2021-01-29_05.06_60919.csv', 'taxation_2021-01-29_05.08_98201.csv', 'taxation_2021-01-29_05.09_96797.csv', 'taxation_2021-01-29_05.11_39630.csv', 'taxation_2021-01-29_05.12_16223.csv', 'taxation_2021-01-29_05.14_12891.csv', 'taxation_2021-01-29_05.15_25778.csv', 'taxation_2021-01-29_05.17_87158.csv', 'taxation_2021-01-29_05.18_19572.csv', 'taxation_2021-01-29_05.20_23364.csv', 'taxation_2021-01-29_05.22_92514.csv', 'taxation_2021-01-29_05.23_24675.csv', 'taxation_2021-01-29_05.25_45810.csv', 'taxation_2021-01-29_05.26_94137.csv', 'taxation_2021-01-29_05.28_31585.csv', 'taxation_2021-01-29_05.29_90277.csv', 'taxation_2021-01-29_05.31_68434.csv', 'taxation_2021-01-29_05.32_15255.csv', 'taxation_2021-01-29_05.34_47911.csv', 'taxation_2021-01-29_05.35_45432.csv', 'taxation_2021-01-29_05.37_31076.csv', 'taxation_2021-01-29_05.39_36338.csv', 'taxation_2021-01-29_05.40_92337.csv', 'taxation_2021-01-29_05.42_37354.csv', 'taxation_2021-01-29_05.43_11638.csv', 'taxation_2021-01-29_05.45_89878.csv', 'taxation_2021-01-29_05.46_34208.csv', 'taxation_2021-01-29_05.49_34524.csv', 'taxation_2021-01-29_05.51_97055.csv', 'taxation_2021-01-29_05.52_49036.csv', 'taxation_2021-01-29_05.54_64103.csv', 'taxation_2021-01-29_05.55_30304.csv', 'taxation_2021-01-29_05.57_12208.csv', 'taxation_2021-01-29_05.59_88010.csv', 'taxation_2021-01-29_06.00_43723.csv', 'taxation_2021-01-29_06.02_64063.csv', 'taxation_2021-01-29_06.03_19685.csv', 'taxation_2021-01-29_06.05_14788.csv', 'taxation_2021-01-29_06.06_95489.csv', 'taxation_2021-01-29_06.08_72653.csv', 'taxation_2021-01-29_06.09_59147.csv', 'taxation_2021-01-29_06.11_97411.csv', 'taxation_2021-01-29_06.12_96366.csv', 'taxation_2021-01-29_06.14_43533.csv', 'taxation_2021-01-29_06.16_11935.csv', 'taxation_2021-01-29_06.17_22365.csv', 'taxation_2021-01-29_06.19_65973.csv', 'taxation_2021-01-29_06.20_42479.csv', 'taxation_2021-01-29_06.22_80497.csv', 'taxation_2021-01-29_06.23_87150.csv', 'taxation_2021-01-29_06.25_77726.csv', 'taxation_2021-01-29_06.26_43801.csv', 'taxation_2021-01-29_06.28_70953.csv', 'taxation_2021-01-29_06.29_83168.csv', 'taxation_2021-01-29_06.31_74689.csv', 'taxation_2021-01-29_06.33_53283.csv', 'taxation_2021-01-29_06.34_22021.csv', 'taxation_2021-01-29_06.36_93636.csv', 'taxation_2021-01-29_06.37_99075.csv', 'taxation_2021-01-29_06.39_39475.csv', 'taxation_2021-01-29_06.40_69703.csv', 'taxation_2021-01-29_06.42_13582.csv', 'taxation_2021-01-29_06.43_41554.csv', 'taxation_2021-01-29_06.45_73194.csv', 'taxation_2021-01-29_06.46_56608.csv', 'taxation_2021-01-29_06.48_86086.csv', 'taxation_2021-01-29_06.49_46758.csv', 'taxation_2021-01-29_06.51_34908.csv', 'taxation_2021-01-29_06.53_86834.csv', 'taxation_2021-01-29_06.54_73619.csv', 'taxation_2021-01-29_06.56_26954.csv', 'taxation_2021-01-29_06.57_19555.csv', 'taxation_2021-01-29_06.59_88980.csv', 'taxation_2021-01-29_07.00_16533.csv', 'taxation_2021-01-29_07.02_17101.csv', 'taxation_2021-01-29_07.03_74541.csv', 'taxation_2021-01-29_07.05_36086.csv', 'taxation_2021-01-29_07.07_54496.csv', 'taxation_2021-01-29_07.08_30890.csv', 'taxation_2021-01-29_07.10_90857.csv', 'taxation_2021-01-29_07.11_17899.csv', 'taxation_2021-01-29_07.13_48428.csv', 'taxation_2021-01-29_07.14_98511.csv', 'taxation_2021-01-29_07.16_95511.csv', 'taxation_2021-01-29_07.17_15399.csv', 'taxation_2021-01-29_07.19_93555.csv', 'taxation_2021-01-29_07.21_61600.csv', 'taxation_2021-01-29_07.22_43441.csv', 'taxation_2021-01-29_07.24_10570.csv', 'taxation_2021-01-29_07.25_83513.csv', 'taxation_2021-01-29_07.27_93978.csv', 'taxation_2021-01-29_07.28_16155.csv', 'taxation_2021-01-29_07.30_80703.csv', 'taxation_2021-01-29_07.31_51602.csv', 'taxation_2021-01-29_07.33_87224.csv', 'taxation_2021-01-29_07.34_55999.csv', 'taxation_2021-01-29_07.36_41950.csv', 'taxation_2021-01-29_07.38_24081.csv', 'taxation_2021-01-29_07.39_87075.csv', 'taxation_2021-01-29_07.41_30738.csv', 'taxation_2021-01-29_07.42_94795.csv', 'taxation_2021-01-29_07.44_71186.csv', 'taxation_2021-01-29_07.45_79999.csv', 'taxation_2021-01-29_07.47_73439.csv', 'taxation_2021-01-29_07.48_41046.csv', 'taxation_2021-01-29_07.50_29204.csv', 'taxation_2021-01-29_07.51_44199.csv', 'taxation_2021-01-29_07.53_62638.csv', 'taxation_2021-01-29_07.54_16618.csv', 'taxation_2021-01-29_07.56_28630.csv', 'taxation_2021-01-29_07.58_95916.csv', 'taxation_2021-01-29_07.59_80425.csv', 'taxation_2021-01-29_08.01_82662.csv', 'taxation_2021-01-29_08.02_11856.csv', 'taxation_2021-01-29_08.04_67968.csv', 'taxation_2021-01-29_08.05_58348.csv', 'taxation_2021-01-29_08.07_73050.csv', 'taxation_2021-01-29_08.09_64716.csv', 'taxation_2021-01-29_08.10_89406.csv', 'taxation_2021-01-29_08.12_23593.csv', 'taxation_2021-01-29_08.13_98769.csv', 'taxation_2021-01-29_08.15_58813.csv', 'taxation_2021-01-29_08.16_51450.csv', 'taxation_2021-01-29_08.18_91716.csv', 'taxation_2021-01-29_08.19_99666.csv', 'taxation_2021-01-29_08.21_40769.csv', 'taxation_2021-01-29_08.22_92563.csv', 'taxation_2021-01-29_08.24_25996.csv', 'taxation_2021-01-29_08.25_17853.csv', 'taxation_2021-01-29_08.27_76623.csv', 'taxation_2021-01-29_08.29_41243.csv', 'taxation_2021-01-29_08.30_57021.csv', 'taxation_2021-01-29_08.32_81078.csv', 'taxation_2021-01-29_08.33_93462.csv', 'taxation_2021-01-29_08.35_45832.csv', 'taxation_2021-01-29_08.36_67103.csv', 'taxation_2021-01-29_08.38_51029.csv', 'taxation_2021-01-29_08.39_92056.csv', 'taxation_2021-01-29_08.41_43229.csv', 'taxation_2021-01-29_08.43_33465.csv', 'taxation_2021-01-29_08.44_34317.csv', 'taxation_2021-01-29_08.46_74347.csv', 'taxation_2021-01-29_08.47_42831.csv', 'taxation_2021-01-29_08.49_84323.csv', 'taxation_2021-01-29_08.50_88010.csv', 'taxation_2021-01-29_08.53_66677.csv', 'taxation_2021-01-29_08.55_50209.csv', 'taxation_2021-01-29_08.56_48733.csv', 'taxation_2021-01-29_08.58_34595.csv', 'taxation_2021-01-29_08.59_38083.csv', 'taxation_2021-01-29_09.01_48006.csv', 'taxation_2021-01-29_09.02_70128.csv', 'taxation_2021-01-29_09.04_94968.csv', 'taxation_2021-01-29_09.05_84080.csv', 'taxation_2021-01-29_09.07_41617.csv', 'taxation_2021-01-29_09.08_72072.csv', 'taxation_2021-01-29_09.10_23772.csv', 'taxation_2021-01-29_09.12_40803.csv', 'taxation_2021-01-29_09.13_52030.csv', 'taxation_2021-01-29_09.15_55482.csv', 'taxation_2021-01-29_09.16_58647.csv', 'taxation_2021-01-29_09.18_85081.csv', 'taxation_2021-01-29_09.19_59446.csv', 'taxation_2021-01-29_09.21_29132.csv', 'taxation_2021-01-29_09.22_80820.csv', 'taxation_2021-01-29_09.24_66637.csv', 'taxation_2021-01-29_09.25_97792.csv', 'taxation_2021-01-29_09.27_89226.csv', 'taxation_2021-01-29_09.28_83347.csv', 'taxation_2021-01-29_09.30_86233.csv', 'taxation_2021-01-29_09.32_45268.csv', 'taxation_2021-01-29_09.33_56282.csv', 'taxation_2021-01-29_09.35_95451.csv', 'taxation_2021-01-29_09.36_58585.csv', 'taxation_2021-01-29_09.38_32506.csv', 'taxation_2021-01-29_09.39_54439.csv', 'taxation_2021-01-29_09.41_82735.csv', 'taxation_2021-01-29_09.43_82468.csv', 'taxation_2021-01-29_09.44_57719.csv', 'taxation_2021-01-29_09.46_63793.csv', 'taxation_2021-01-29_09.47_25412.csv']\n"
     ]
    },
    {
     "name": "stdout",
     "output_type": "stream",
     "text": [
      "521 To load, files loaded: 0 1 2 3 4 5 6 7 8 9 10 11 12 13 14 15 16 17 18 19 20 21 22 23 24 25 26 27 28 29 30 31 32 33 34 35 36 37 38 39 40 41 42 43 44 45 46 47 48 49 50 51 52 53 54 55 56 57 58 59 60 61 62 63 64 65 66 67 68 69 70 71 72 73 74 75 76 77 78 79 80 81 82 83 84 85 86 87 88 89 90 91 92 93 94 95 96 97 98 99 100 101 102 103 104 105 106 107 108 109 110 111 112 113 114 115 116 117 118 119 120 121 122 123 124 125 126 127 128 129 130 131 132 133 134 135 136 137 138 139 140 141 142 143 144 145 146 147 148 149 150 151 152 153 154 155 156 157 158 159 160 161 162 163 164 165 166 167 168 169 170 171 172 173 174 175 176 177 178 179 180 181 182 183 184 185 186 187 188 189 190 191 192 193 194 195 196 197 198 199 200 201 202 203 204 205 206 207 208 209 210 211 212 213 214 215 216 217 218 219 220 221 222 223 224 225 226 227 228 229 230 231 232 233 234 235 236 237 238 239 240 241 242 243 244 245 246 247 248 249 250 251 252 253 254 255 256 257 258 259 260 261 262 263 264 265 266 267 268 269 270 271 272 273 274 275 276 277 278 279 280 281 282 283 284 285 286 287 288 289 290 291 292 293 294 295 296 297 298 299 300 301 302 303 304 305 306 307 308 309 310 311 312 313 314 315 316 317 318 319 320 321 322 323 324 325 326 327 328 329 330 331 332 333 334 335 336 337 338 339 340 341 342 343 344 345 346 347 348 349 350 351 352 353 354 355 356 357 358 359 360 361 362 363 364 365 366 367 368 369 370 371 372 373 374 375 376 377 378 379 380 381 382 383 384 385 386 387 388 389 390 391 392 393 394 395 396 397 398 399 400 401 402 403 404 405 406 407 408 409 410 411 412 413 414 415 416 417 418 419 420 421 422 423 424 425 426 427 428 429 430 431 432 433 434 435 436 437 438 439 440 441 442 443 444 445 446 447 448 449 450 451 452 453 454 455 456 457 458 459 460 461 462 463 464 465 466 467 468 469 470 471 472 473 474 475 476 477 478 479 480 481 482 483 484 485 486 487 488 489 490 491 492 493 494 495 496 497 498 499 500 501 502 503 504 505 506 507 508 509 510 511 512 513 514 515 516 517 518 519 520 "
     ]
    }
   ],
   "source": [
    "taxation = load_data(\"taxation\")"
   ]
  },
  {
   "cell_type": "code",
   "execution_count": 16,
   "metadata": {},
   "outputs": [
    {
     "data": {
      "image/png": "[encoded data removed]",
      "text/plain": [
       "<Figure size 432x288 with 1 Axes>"
      ]
     },
     "metadata": {
      "needs_background": "light"
     },
     "output_type": "display_data"
    }
   ],
   "source": [
    "plt = sns.barplot(x=\"Tax Rate\", y=\"Gini\", hue=\"Ams map\", data=taxation, ci=95, n_boot=10000, errwidth=1.5, capsize=0.3)"
   ]
  },
  {
   "cell_type": "markdown",
   "metadata": {},
   "source": [
    "# vision"
   ]
  },
  {
   "cell_type": "code",
   "execution_count": 17,
   "metadata": {},
   "outputs": [
    {
     "name": "stdout",
     "output_type": "stream",
     "text": [
      "441 files found: ['vision_2021-01-28_20.10_10909.csv', 'vision_2021-01-28_20.11_76793.csv', 'vision_2021-01-28_20.12_87180.csv', 'vision_2021-01-28_20.14_40992.csv', 'vision_2021-01-28_20.17_74625.csv', 'vision_2021-01-28_20.21_44351.csv', 'vision_2021-01-28_20.22_46425.csv', 'vision_2021-01-28_20.22_70919.csv', 'vision_2021-01-28_20.23_49860.csv', 'vision_2021-01-28_20.25_81093.csv', 'vision_2021-01-28_20.29_72637.csv', 'vision_2021-01-28_20.33_18853.csv', 'vision_2021-01-28_20.33_69251.csv', 'vision_2021-01-28_20.33_75130.csv', 'vision_2021-01-28_20.35_18854.csv', 'vision_2021-01-28_20.37_25154.csv', 'vision_2021-01-28_20.40_12506.csv', 'vision_2021-01-28_20.44_25196.csv', 'vision_2021-01-28_20.44_73953.csv', 'vision_2021-01-28_20.45_35689.csv', 'vision_2021-01-28_20.46_26809.csv', 'vision_2021-01-28_20.48_89921.csv', 'vision_2021-01-28_20.52_52064.csv', 'vision_2021-01-28_20.56_34660.csv', 'vision_2021-01-28_20.56_68104.csv', 'vision_2021-01-28_20.56_68379.csv', 'vision_2021-01-28_20.58_85401.csv', 'vision_2021-01-28_21.00_97670.csv', 'vision_2021-01-28_21.03_55741.csv', 'vision_2021-01-28_21.07_45216.csv', 'vision_2021-01-28_21.07_82817.csv', 'vision_2021-01-28_21.08_75902.csv', 'vision_2021-01-28_21.09_24175.csv', 'vision_2021-01-28_21.11_85718.csv', 'vision_2021-01-28_21.15_80293.csv', 'vision_2021-01-28_21.19_16667.csv', 'vision_2021-01-28_21.19_23178.csv', 'vision_2021-01-28_21.19_49877.csv', 'vision_2021-01-28_21.21_60719.csv', 'vision_2021-01-28_21.22_30312.csv', 'vision_2021-01-28_21.26_96574.csv', 'vision_2021-01-28_21.30_86045.csv', 'vision_2021-01-28_21.31_18203.csv', 'vision_2021-01-28_21.31_54286.csv', 'vision_2021-01-28_21.32_31644.csv', 'vision_2021-01-28_21.34_91642.csv', 'vision_2021-01-28_21.38_93690.csv', 'vision_2021-01-28_21.42_51957.csv', 'vision_2021-01-28_21.42_64145.csv', 'vision_2021-01-28_21.42_86289.csv', 'vision_2021-01-28_21.44_96047.csv', 'vision_2021-01-28_21.45_62554.csv', 'vision_2021-01-28_21.49_42257.csv', 'vision_2021-01-28_21.53_28775.csv', 'vision_2021-01-28_21.53_82722.csv', 'vision_2021-01-28_21.54_27646.csv', 'vision_2021-01-28_21.55_31777.csv', 'vision_2021-01-28_21.57_32900.csv', 'vision_2021-01-28_22.01_22375.csv', 'vision_2021-01-28_22.05_42215.csv', 'vision_2021-01-28_22.05_73136.csv', 'vision_2021-01-28_22.05_94567.csv', 'vision_2021-01-28_22.07_86961.csv', 'vision_2021-01-28_22.08_37561.csv', 'vision_2021-01-28_22.12_89886.csv', 'vision_2021-01-28_22.16_25915.csv', 'vision_2021-01-28_22.16_36990.csv', 'vision_2021-01-28_22.17_79116.csv', 'vision_2021-01-28_22.18_53698.csv', 'vision_2021-01-28_22.20_39378.csv', 'vision_2021-01-28_22.23_78138.csv', 'vision_2021-01-28_22.28_20485.csv', 'vision_2021-01-28_22.28_22521.csv', 'vision_2021-01-28_22.28_91731.csv', 'vision_2021-01-28_22.30_94735.csv', 'vision_2021-01-28_22.31_24433.csv', 'vision_2021-01-28_22.35_41139.csv', 'vision_2021-01-28_22.39_44801.csv', 'vision_2021-01-28_22.39_96999.csv', 'vision_2021-01-28_22.40_82449.csv', 'vision_2021-01-28_22.41_52376.csv', 'vision_2021-01-28_22.43_62983.csv', 'vision_2021-01-28_22.47_84370.csv', 'vision_2021-01-28_22.51_81731.csv', 'vision_2021-01-28_22.51_91354.csv', 'vision_2021-01-28_22.51_94319.csv', 'vision_2021-01-28_22.53_67953.csv', 'vision_2021-01-28_22.54_34003.csv', 'vision_2021-01-28_22.58_85380.csv', 'vision_2021-01-28_23.02_13375.csv', 'vision_2021-01-28_23.02_81380.csv', 'vision_2021-01-28_23.03_66928.csv', 'vision_2021-01-28_23.04_78976.csv', 'vision_2021-01-28_23.06_89908.csv', 'vision_2021-01-28_23.09_20141.csv', 'vision_2021-01-28_23.13_69705.csv', 'vision_2021-01-28_23.14_56138.csv', 'vision_2021-01-28_23.14_71360.csv', 'vision_2021-01-28_23.15_84391.csv', 'vision_2021-01-28_23.17_71628.csv', 'vision_2021-01-28_23.21_21931.csv', 'vision_2021-01-28_23.25_31675.csv', 'vision_2021-01-28_23.25_38697.csv', 'vision_2021-01-28_23.25_66035.csv', 'vision_2021-01-28_23.27_19412.csv', 'vision_2021-01-28_23.28_22510.csv', 'vision_2021-01-28_23.32_26652.csv', 'vision_2021-01-28_23.36_25176.csv', 'vision_2021-01-28_23.36_43777.csv', 'vision_2021-01-28_23.36_55829.csv', 'vision_2021-01-28_23.38_17625.csv', 'vision_2021-01-28_23.39_32256.csv', 'vision_2021-01-28_23.43_15909.csv', 'vision_2021-01-28_23.47_21305.csv', 'vision_2021-01-28_23.47_73989.csv', 'vision_2021-01-28_23.48_25343.csv', 'vision_2021-01-28_23.49_67809.csv', 'vision_2021-01-28_23.51_85266.csv', 'vision_2021-01-28_23.54_62110.csv', 'vision_2021-01-28_23.58_46886.csv', 'vision_2021-01-28_23.59_19757.csv', 'vision_2021-01-28_23.59_90093.csv', 'vision_2021-01-29_00.01_81026.csv', 'vision_2021-01-29_00.02_22078.csv', 'vision_2021-01-29_00.06_86991.csv', 'vision_2021-01-29_00.10_31251.csv', 'vision_2021-01-29_00.10_51787.csv', 'vision_2021-01-29_00.10_90131.csv', 'vision_2021-01-29_00.12_29525.csv', 'vision_2021-01-29_00.13_72272.csv', 'vision_2021-01-29_00.17_32743.csv', 'vision_2021-01-29_00.21_94661.csv', 'vision_2021-01-29_00.21_98503.csv', 'vision_2021-01-29_00.22_32979.csv', 'vision_2021-01-29_00.23_41819.csv', 'vision_2021-01-29_00.25_19132.csv', 'vision_2021-01-29_00.28_33627.csv', 'vision_2021-01-29_00.32_21750.csv', 'vision_2021-01-29_00.32_42773.csv', 'vision_2021-01-29_00.33_23445.csv', 'vision_2021-01-29_00.34_21906.csv', 'vision_2021-01-29_00.36_57698.csv', 'vision_2021-01-29_00.39_38636.csv', 'vision_2021-01-29_00.43_69738.csv', 'vision_2021-01-29_00.43_83445.csv', 'vision_2021-01-29_00.44_53578.csv', 'vision_2021-01-29_00.45_13919.csv', 'vision_2021-01-29_00.47_61242.csv', 'vision_2021-01-29_00.50_14079.csv', 'vision_2021-01-29_00.54_64259.csv', 'vision_2021-01-29_00.55_76261.csv', 'vision_2021-01-29_00.55_97128.csv', 'vision_2021-01-29_00.56_81152.csv', 'vision_2021-01-29_00.58_94544.csv', 'vision_2021-01-29_01.02_53510.csv', 'vision_2021-01-29_01.05_65382.csv', 'vision_2021-01-29_01.06_36013.csv', 'vision_2021-01-29_01.06_39278.csv', 'vision_2021-01-29_01.07_38958.csv', 'vision_2021-01-29_01.09_49299.csv', 'vision_2021-01-29_01.13_27839.csv', 'vision_2021-01-29_01.17_17731.csv', 'vision_2021-01-29_01.17_40732.csv', 'vision_2021-01-29_01.17_94095.csv', 'vision_2021-01-29_01.19_73065.csv', 'vision_2021-01-29_01.20_96198.csv', 'vision_2021-01-29_01.24_96106.csv', 'vision_2021-01-29_01.28_59989.csv', 'vision_2021-01-29_01.28_67286.csv', 'vision_2021-01-29_01.28_96725.csv', 'vision_2021-01-29_01.30_18211.csv', 'vision_2021-01-29_01.31_28403.csv', 'vision_2021-01-29_01.35_44569.csv', 'vision_2021-01-29_01.39_17427.csv', 'vision_2021-01-29_01.39_85372.csv', 'vision_2021-01-29_01.39_86901.csv', 'vision_2021-01-29_01.41_81744.csv', 'vision_2021-01-29_01.43_13120.csv', 'vision_2021-01-29_01.46_63553.csv', 'vision_2021-01-29_01.50_70948.csv', 'vision_2021-01-29_01.51_22301.csv', 'vision_2021-01-29_01.51_52963.csv', 'vision_2021-01-29_01.52_27645.csv', 'vision_2021-01-29_01.54_99833.csv', 'vision_2021-01-29_01.58_51429.csv', 'vision_2021-01-29_02.01_84612.csv', 'vision_2021-01-29_02.02_16897.csv', 'vision_2021-01-29_02.02_18432.csv', 'vision_2021-01-29_02.04_75047.csv', 'vision_2021-01-29_02.05_60638.csv', 'vision_2021-01-29_02.09_19252.csv', 'vision_2021-01-29_02.13_22922.csv', 'vision_2021-01-29_02.13_41762.csv', 'vision_2021-01-29_02.13_63210.csv', 'vision_2021-01-29_02.15_36485.csv', 'vision_2021-01-29_02.16_12509.csv', 'vision_2021-01-29_02.20_80747.csv', 'vision_2021-01-29_02.24_74317.csv', 'vision_2021-01-29_02.24_84856.csv', 'vision_2021-01-29_02.24_90356.csv', 'vision_2021-01-29_02.26_47205.csv', 'vision_2021-01-29_02.27_71008.csv', 'vision_2021-01-29_02.31_75830.csv', 'vision_2021-01-29_02.35_35673.csv', 'vision_2021-01-29_02.35_36354.csv', 'vision_2021-01-29_02.35_46818.csv', 'vision_2021-01-29_02.37_41808.csv', 'vision_2021-01-29_02.39_15125.csv', 'vision_2021-01-29_02.42_29786.csv', 'vision_2021-01-29_02.46_19860.csv', 'vision_2021-01-29_02.46_70641.csv', 'vision_2021-01-29_02.47_41067.csv', 'vision_2021-01-29_02.48_61184.csv', 'vision_2021-01-29_02.50_51689.csv', 'vision_2021-01-29_02.53_55625.csv', 'vision_2021-01-29_02.57_36917.csv', 'vision_2021-01-29_02.57_74646.csv', 'vision_2021-01-29_02.58_86512.csv', 'vision_2021-01-29_02.59_25467.csv', 'vision_2021-01-29_03.01_59846.csv', 'vision_2021-01-29_03.04_14727.csv', 'vision_2021-01-29_03.08_13989.csv', 'vision_2021-01-29_03.09_68731.csv', 'vision_2021-01-29_03.09_88721.csv', 'vision_2021-01-29_03.10_12130.csv', 'vision_2021-01-29_03.12_57396.csv', 'vision_2021-01-29_03.15_25404.csv', 'vision_2021-01-29_03.19_75367.csv', 'vision_2021-01-29_03.20_10806.csv', 'vision_2021-01-29_03.20_48284.csv', 'vision_2021-01-29_03.21_93088.csv', 'vision_2021-01-29_03.23_13467.csv', 'vision_2021-01-29_03.27_59010.csv', 'vision_2021-01-29_03.30_29925.csv', 'vision_2021-01-29_03.31_16042.csv', 'vision_2021-01-29_03.31_32195.csv', 'vision_2021-01-29_03.33_74386.csv', 'vision_2021-01-29_03.34_82754.csv', 'vision_2021-01-29_03.38_58923.csv', 'vision_2021-01-29_03.42_58581.csv', 'vision_2021-01-29_03.42_69436.csv', 'vision_2021-01-29_03.42_76195.csv', 'vision_2021-01-29_03.44_39902.csv', 'vision_2021-01-29_03.45_57401.csv', 'vision_2021-01-29_03.49_51533.csv', 'vision_2021-01-29_03.53_11331.csv', 'vision_2021-01-29_03.53_88377.csv', 'vision_2021-01-29_03.53_94847.csv', 'vision_2021-01-29_03.55_63507.csv', 'vision_2021-01-29_03.56_21426.csv', 'vision_2021-01-29_04.00_28117.csv', 'vision_2021-01-29_04.04_13061.csv', 'vision_2021-01-29_04.04_40517.csv', 'vision_2021-01-29_04.04_84409.csv', 'vision_2021-01-29_04.06_87515.csv', 'vision_2021-01-29_04.07_68035.csv', 'vision_2021-01-29_04.11_84299.csv', 'vision_2021-01-29_04.15_32285.csv', 'vision_2021-01-29_04.15_92584.csv', 'vision_2021-01-29_04.15_97694.csv', 'vision_2021-01-29_04.17_28531.csv', 'vision_2021-01-29_04.19_82847.csv', 'vision_2021-01-29_04.22_80346.csv', 'vision_2021-01-29_04.26_33468.csv', 'vision_2021-01-29_04.26_49392.csv', 'vision_2021-01-29_04.27_94760.csv', 'vision_2021-01-29_04.28_19243.csv', 'vision_2021-01-29_04.30_83194.csv', 'vision_2021-01-29_04.33_24236.csv', 'vision_2021-01-29_04.37_22554.csv', 'vision_2021-01-29_04.37_39024.csv', 'vision_2021-01-29_04.38_88526.csv', 'vision_2021-01-29_04.39_23033.csv', 'vision_2021-01-29_04.41_72501.csv', 'vision_2021-01-29_04.44_38556.csv', 'vision_2021-01-29_04.48_21255.csv', 'vision_2021-01-29_04.48_26644.csv', 'vision_2021-01-29_04.49_59043.csv', 'vision_2021-01-29_04.50_58449.csv', 'vision_2021-01-29_04.52_96651.csv', 'vision_2021-01-29_04.55_89416.csv', 'vision_2021-01-29_04.59_49847.csv', 'vision_2021-01-29_04.59_68703.csv', 'vision_2021-01-29_05.00_18875.csv', 'vision_2021-01-29_05.01_57352.csv', 'vision_2021-01-29_05.03_28577.csv', 'vision_2021-01-29_05.07_43618.csv', 'vision_2021-01-29_05.10_68560.csv', 'vision_2021-01-29_05.11_11788.csv', 'vision_2021-01-29_05.11_53833.csv', 'vision_2021-01-29_05.13_46457.csv', 'vision_2021-01-29_05.14_18505.csv', 'vision_2021-01-29_05.18_46122.csv', 'vision_2021-01-29_05.22_29755.csv', 'vision_2021-01-29_05.22_38844.csv', 'vision_2021-01-29_05.22_89418.csv', 'vision_2021-01-29_05.24_83678.csv', 'vision_2021-01-29_05.25_66704.csv', 'vision_2021-01-29_05.29_78022.csv', 'vision_2021-01-29_05.33_55203.csv', 'vision_2021-01-29_05.33_71505.csv', 'vision_2021-01-29_05.33_98790.csv', 'vision_2021-01-29_05.35_72797.csv', 'vision_2021-01-29_05.36_98483.csv', 'vision_2021-01-29_05.40_14077.csv', 'vision_2021-01-29_05.44_22474.csv', 'vision_2021-01-29_05.44_28494.csv', 'vision_2021-01-29_05.44_59550.csv', 'vision_2021-01-29_05.46_30669.csv', 'vision_2021-01-29_05.48_15725.csv', 'vision_2021-01-29_05.51_70916.csv', 'vision_2021-01-29_05.55_52554.csv', 'vision_2021-01-29_05.55_88957.csv', 'vision_2021-01-29_05.56_15964.csv', 'vision_2021-01-29_05.57_54836.csv', 'vision_2021-01-29_05.59_29536.csv', 'vision_2021-01-29_06.02_83593.csv', 'vision_2021-01-29_06.06_24263.csv', 'vision_2021-01-29_06.06_37411.csv', 'vision_2021-01-29_06.07_86602.csv', 'vision_2021-01-29_06.08_57515.csv', 'vision_2021-01-29_06.10_26982.csv', 'vision_2021-01-29_06.13_82223.csv', 'vision_2021-01-29_06.17_18131.csv', 'vision_2021-01-29_06.18_43006.csv', 'vision_2021-01-29_06.18_88635.csv', 'vision_2021-01-29_06.19_15038.csv', 'vision_2021-01-29_06.21_74170.csv', 'vision_2021-01-29_06.24_90033.csv', 'vision_2021-01-29_06.28_24833.csv', 'vision_2021-01-29_06.29_16058.csv', 'vision_2021-01-29_06.29_22487.csv', 'vision_2021-01-29_06.30_95246.csv', 'vision_2021-01-29_06.32_87333.csv', 'vision_2021-01-29_06.36_38717.csv', 'vision_2021-01-29_06.40_91580.csv', 'vision_2021-01-29_06.40_92576.csv', 'vision_2021-01-29_06.40_93968.csv', 'vision_2021-01-29_06.42_30843.csv', 'vision_2021-01-29_06.43_77295.csv', 'vision_2021-01-29_06.47_72732.csv', 'vision_2021-01-29_06.51_24433.csv', 'vision_2021-01-29_06.51_47240.csv', 'vision_2021-01-29_06.51_59328.csv', 'vision_2021-01-29_06.53_32936.csv', 'vision_2021-01-29_06.54_79757.csv', 'vision_2021-01-29_06.58_71162.csv', 'vision_2021-01-29_07.02_22968.csv', 'vision_2021-01-29_07.02_42425.csv', 'vision_2021-01-29_07.02_84649.csv', 'vision_2021-01-29_07.04_66198.csv', 'vision_2021-01-29_07.05_11433.csv', 'vision_2021-01-29_07.09_82948.csv', 'vision_2021-01-29_07.13_19722.csv', 'vision_2021-01-29_07.13_33980.csv', 'vision_2021-01-29_07.13_47382.csv', 'vision_2021-01-29_07.15_52944.csv', 'vision_2021-01-29_07.16_92176.csv', 'vision_2021-01-29_07.20_27726.csv', 'vision_2021-01-29_07.24_14118.csv', 'vision_2021-01-29_07.24_26172.csv', 'vision_2021-01-29_07.24_74341.csv', 'vision_2021-01-29_07.26_66533.csv', 'vision_2021-01-29_07.27_26772.csv', 'vision_2021-01-29_07.31_22978.csv', 'vision_2021-01-29_07.35_17617.csv', 'vision_2021-01-29_07.35_86937.csv', 'vision_2021-01-29_07.36_41872.csv', 'vision_2021-01-29_07.37_62519.csv', 'vision_2021-01-29_07.39_59441.csv', 'vision_2021-01-29_07.42_73413.csv', 'vision_2021-01-29_07.46_22973.csv', 'vision_2021-01-29_07.46_59856.csv', 'vision_2021-01-29_07.47_52736.csv', 'vision_2021-01-29_07.48_80119.csv', 'vision_2021-01-29_07.50_44167.csv', 'vision_2021-01-29_07.53_82736.csv', 'vision_2021-01-29_07.57_31148.csv', 'vision_2021-01-29_07.58_14994.csv', 'vision_2021-01-29_07.58_83464.csv', 'vision_2021-01-29_07.59_13973.csv', 'vision_2021-01-29_08.01_87707.csv', 'vision_2021-01-29_08.04_97550.csv', 'vision_2021-01-29_08.08_18645.csv', 'vision_2021-01-29_08.09_21043.csv', 'vision_2021-01-29_08.09_52863.csv', 'vision_2021-01-29_08.10_37381.csv', 'vision_2021-01-29_08.12_42900.csv', 'vision_2021-01-29_08.15_26625.csv', 'vision_2021-01-29_08.19_88698.csv', 'vision_2021-01-29_08.20_23236.csv', 'vision_2021-01-29_08.20_51874.csv', 'vision_2021-01-29_08.21_43323.csv', 'vision_2021-01-29_08.23_46508.csv', 'vision_2021-01-29_08.27_71299.csv', 'vision_2021-01-29_08.30_41649.csv', 'vision_2021-01-29_08.31_14260.csv', 'vision_2021-01-29_08.31_57007.csv', 'vision_2021-01-29_08.33_28863.csv', 'vision_2021-01-29_08.34_72378.csv', 'vision_2021-01-29_08.38_41755.csv', 'vision_2021-01-29_08.42_33979.csv', 'vision_2021-01-29_08.42_37314.csv', 'vision_2021-01-29_08.42_73676.csv', 'vision_2021-01-29_08.44_56808.csv', 'vision_2021-01-29_08.45_68042.csv', 'vision_2021-01-29_08.49_83256.csv', 'vision_2021-01-29_08.53_23581.csv', 'vision_2021-01-29_08.53_36358.csv', 'vision_2021-01-29_08.53_45233.csv', 'vision_2021-01-29_08.55_52145.csv', 'vision_2021-01-29_08.56_42052.csv', 'vision_2021-01-29_09.00_83312.csv', 'vision_2021-01-29_09.04_26917.csv', 'vision_2021-01-29_09.04_51668.csv', 'vision_2021-01-29_09.04_83241.csv', 'vision_2021-01-29_09.06_29127.csv', 'vision_2021-01-29_09.07_49982.csv', 'vision_2021-01-29_09.11_98771.csv', 'vision_2021-01-29_09.15_29676.csv', 'vision_2021-01-29_09.15_61122.csv', 'vision_2021-01-29_09.15_87586.csv', 'vision_2021-01-29_09.17_87803.csv', 'vision_2021-01-29_09.18_42175.csv', 'vision_2021-01-29_09.22_54303.csv', 'vision_2021-01-29_09.26_12542.csv', 'vision_2021-01-29_09.26_59146.csv', 'vision_2021-01-29_09.26_89292.csv', 'vision_2021-01-29_09.28_65702.csv', 'vision_2021-01-29_09.30_62536.csv', 'vision_2021-01-29_09.33_37291.csv', 'vision_2021-01-29_09.37_32327.csv', 'vision_2021-01-29_09.37_73994.csv', 'vision_2021-01-29_09.38_66483.csv', 'vision_2021-01-29_09.39_84569.csv', 'vision_2021-01-29_09.41_12982.csv', 'vision_2021-01-29_09.44_91690.csv', 'vision_2021-01-29_09.48_55045.csv', 'vision_2021-01-29_09.48_56229.csv', 'vision_2021-01-29_09.49_81727.csv', 'vision_2021-01-29_09.51_61252.csv']\n"
     ]
    },
    {
     "name": "stdout",
     "output_type": "stream",
     "text": [
      "441 To load, files loaded: 0 1 2 3 4 5 6 7 8 9 10 11 12 13 14 15 16 17 18 19 20 21 22 23 24 25 26 27 28 29 30 31 32 33 34 35 36 37 38 39 40 41 42 43 44 45 46 47 48 49 50 51 52 53 54 55 56 57 58 59 60 61 62 63 64 65 66 67 68 69 70 71 72 73 74 75 76 77 78 79 80 81 82 83 84 85 86 87 88 89 90 91 92 93 94 95 96 97 98 99 100 101 102 103 104 105 106 107 108 109 110 111 112 113 114 115 116 117 118 119 120 121 122 123 124 125 126 127 128 129 130 131 132 133 134 135 136 137 138 139 140 141 142 143 144 145 146 147 148 149 150 151 152 153 154 155 156 157 158 159 160 161 162 163 164 165 166 167 168 169 170 171 172 173 174 175 176 177 178 179 180 181 182 183 184 185 186 187 188 189 190 191 192 193 194 195 196 197 198 199 200 201 202 203 204 205 206 207 208 209 210 211 212 213 214 215 216 217 218 219 220 221 222 223 224 225 226 227 228 229 230 231 232 233 234 235 236 237 238 239 240 241 242 243 244 245 246 247 248 249 250 251 252 253 254 255 256 257 258 259 260 261 262 263 264 265 266 267 268 269 270 271 272 273 274 275 276 277 278 279 280 281 282 283 284 285 286 287 288 289 290 291 292 293 294 295 296 297 298 299 300 301 302 303 304 305 306 307 308 309 310 311 312 313 314 315 316 317 318 319 320 321 322 323 324 325 326 327 328 329 330 331 332 333 334 335 336 337 338 339 340 341 342 343 344 345 346 347 348 349 350 351 352 353 354 355 356 357 358 359 360 361 362 363 364 365 366 367 368 369 370 371 372 373 374 375 376 377 378 379 380 381 382 383 384 385 386 387 388 389 390 391 392 393 394 395 396 397 398 399 400 401 402 403 404 405 406 407 408 409 410 411 412 413 414 415 416 417 418 419 420 421 422 423 424 425 426 427 428 429 430 431 432 433 434 435 436 437 438 439 440 "
     ]
    }
   ],
   "source": [
    "vision = load_data(\"vision\")"
   ]
  },
  {
   "cell_type": "code",
   "execution_count": 18,
   "metadata": {},
   "outputs": [
    {
     "data": {
      "image/png": "[encoded data removed]",
      "text/plain": [
       "<Figure size 432x288 with 1 Axes>"
      ]
     },
     "metadata": {
      "needs_background": "light"
     },
     "output_type": "display_data"
    }
   ],
   "source": [
    "plt = sns.barplot(x=\"Vision\", y=\"Gini\", hue=\"Ams map\", data=vision, ci=95, n_boot=10000, errwidth=1.5, capsize=0.3)"
   ]
  },
  {
   "cell_type": "code",
   "execution_count": 19,
   "metadata": {},
   "outputs": [],
   "source": [
    "# def pltSD(nparray):\n",
    "#     \"\"\"\n",
    "#     Plots the SD of a given array using fill_between from matplotlib to the plt\n",
    "#     \"\"\"\n",
    "#     try:\n",
    "#         means = np.mean(nparray, axis=0)\n",
    "#         stds = np.std(nparray, axis=0)\n",
    "#         plt.fill_between(list(range(len(means))), [means[i] - stds[i] for i, val in enumerate(means)], [means[i] + stds[i] for i, val in enumerate(means)], alpha = 0.25)\n",
    "#     except:\n",
    "#         pass\n",
    "#     return"
   ]
  },
  {
   "cell_type": "code",
   "execution_count": 10,
   "metadata": {},
   "outputs": [],
   "source": [
    "# gini_overtime = np.array(data.loc[(data.Run == 0)][\"Gini\"].tolist())\n",
    "# runs = max(data[\"Run\"].tolist())\n",
    "# for run in range(1, runs + 1):\n",
    "#      gini_overtime = np.vstack((gini_overtime, np.array(data.loc[(data.Run == run)][\"Gini\"].tolist())))\n",
    "\n",
    "# plt.plot(np.mean(gini_overtime, axis=0))\n",
    "# pltSD(gini_overtime)\n",
    "# plt.xlabel(\"Time\")\n",
    "# plt.ylabel(\"Gini\")\n",
    "# plt.show()"
   ]
  },
  {
   "cell_type": "code",
   "execution_count": null,
   "metadata": {},
   "outputs": [],
   "source": []
  }
 ],
 "metadata": {
  "kernelspec": {
   "display_name": "Python 3",
   "language": "python",
   "name": "python3"
  },
  "language_info": {
   "codemirror_mode": {
    "name": "ipython",
    "version": 3
   },
   "file_extension": ".py",
   "mimetype": "text/x-python",
   "name": "python",
   "nbconvert_exporter": "python",
   "pygments_lexer": "ipython3",
   "version": "3.8.5"
  }
 },
 "nbformat": 4,
 "nbformat_minor": 4
}
