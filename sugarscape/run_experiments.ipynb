{
 "cells": [
  {
   "cell_type": "code",
   "execution_count": null,
   "metadata": {},
   "outputs": [],
   "source": [
    "from SALib.sample import saltelli\n",
    "from SALib.analyze import sobol\n",
    "from SALib.test_functions import Ishigami\n",
    "import numpy as np\n",
    "import ineqpy\n",
    "import matplotlib.pyplot as plt\n",
    "from os import path\n",
    "import main as sugar\n",
    "\n",
    "import time\n",
    "from IPython.display import clear_output"
   ]
  },
  {
   "cell_type": "code",
   "execution_count": null,
   "metadata": {},
   "outputs": [],
   "source": [
    "def runmodel(vision, useamsmap, usedeath, useinstantregrowth, tax_rate, expname):\n",
    "\n",
    "    parameters = 250, vision, 1, useamsmap, usedeath, useinstantregrowth, tax_rate, expname\n",
    "\n",
    "    print(\"parameters:\\n\",parameters)\n",
    "\n",
    "    # run model\n",
    "    df = sugar.main(parameters)\n",
    "    df = df.reset_index()\n",
    "    \n",
    "    print(\"Run done! :D\")\n",
    "\n",
    "# because only very sometimes the model gives an non-reproducible error\n",
    "def runmodel2(vision, useamsmap, usedeath, useinstantregrowth, tax_rate, expname):\n",
    "    try:\n",
    "        runmodel(vision, useamsmap, usedeath, useinstantregrowth, tax_rate, expname)\n",
    "    except:\n",
    "        print(\"error encountered, trying again!\")\n",
    "        runmodel2(vision, useamsmap, usedeath, useinstantregrowth, tax_rate, expname)\n"
   ]
  },
  {
   "cell_type": "markdown",
   "metadata": {},
   "source": [
    "# Run taxation experiment"
   ]
  },
  {
   "cell_type": "code",
   "execution_count": null,
   "metadata": {},
   "outputs": [],
   "source": [
    "sample = 1\n",
    "while True:\n",
    "    for tax_rate in [0.0, 0.25, 0.5]:\n",
    "        for useamsmap in [False, True]:\n",
    "            vision = 6\n",
    "            usedeath = True\n",
    "            useinstantregrowth = False\n",
    "            \n",
    "            expname = f\"taxation\"\n",
    "            runmodel2(vision, useamsmap, usedeath, useinstantregrowth, tax_rate, expname)\n",
    "    \n",
    "    clear_output(wait=False)\n",
    "    print(f\"sample {sample} done\")\n",
    "    sample += 1"
   ]
  },
  {
   "cell_type": "markdown",
   "metadata": {},
   "source": [
    "# Run vision experiment"
   ]
  },
  {
   "cell_type": "code",
   "execution_count": null,
   "metadata": {},
   "outputs": [],
   "source": [
    "sample = 1\n",
    "while True:\n",
    "    for vision in [2, 6, 10]:\n",
    "        for useamsmap in [False, True]:\n",
    "            tax_rate = 0\n",
    "            usedeath = True\n",
    "            useinstantregrowth = False\n",
    "            \n",
    "            expname = f\"vision\"\n",
    "            runmodel2(vision, useamsmap, usedeath, useinstantregrowth, tax_rate, expname)\n",
    "    \n",
    "    clear_output(wait=False)\n",
    "    print(f\"sample {sample} done\")\n",
    "    sample += 1"
   ]
  }
 ],
 "metadata": {
  "kernelspec": {
   "display_name": "Python 3",
   "language": "python",
   "name": "python3"
  },
  "language_info": {
   "codemirror_mode": {
    "name": "ipython",
    "version": 3
   },
   "file_extension": ".py",
   "mimetype": "text/x-python",
   "name": "python",
   "nbconvert_exporter": "python",
   "pygments_lexer": "ipython3",
   "version": "3.8.5"
  }
 },
 "nbformat": 4,
 "nbformat_minor": 4
}
