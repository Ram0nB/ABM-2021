{
 "cells": [
  {
   "cell_type": "code",
   "execution_count": 3,
   "metadata": {},
   "outputs": [],
   "source": [
    "import main"
   ]
  },
  {
   "cell_type": "code",
   "execution_count": 6,
   "metadata": {},
   "outputs": [
    {
     "name": "stdout",
     "output_type": "stream",
     "text": [
      "saved data for 2021-01-20 16.55\n"
     ]
    }
   ],
   "source": [
    "N = 20\n",
    "size = 99\n",
    "vision = 1\n",
    "tax_brackets = [0,0]\n",
    "tax_percentages = [0,0]\n",
    "inheritance_tax_brackets = [0, 10, 30, 50, 100]\n",
    "inheritance_tax_percentages = [0, 0.3, 0.3, 0.35, 0.6]\n",
    "starting_wealth = 5\n",
    "steps = 300\n",
    "\n",
    "parameters = N, size, vision, tax_brackets, tax_percentages, inheritance_tax_brackets, inheritance_tax_percentages, starting_wealth, steps\n",
    "\n",
    "df = main.main(parameters)"
   ]
  },
  {
   "cell_type": "code",
   "execution_count": null,
   "metadata": {},
   "outputs": [],
   "source": []
  }
 ],
 "metadata": {
  "kernelspec": {
   "display_name": "Python 3",
   "language": "python",
   "name": "python3"
  },
  "language_info": {
   "codemirror_mode": {
    "name": "ipython",
    "version": 3
   },
   "file_extension": ".py",
   "mimetype": "text/x-python",
   "name": "python",
   "nbconvert_exporter": "python",
   "pygments_lexer": "ipython3",
   "version": "3.8.5"
  }
 },
 "nbformat": 4,
 "nbformat_minor": 4
}
