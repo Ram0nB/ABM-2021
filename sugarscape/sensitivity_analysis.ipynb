{
 "cells": [
  {
   "cell_type": "code",
<<<<<<< HEAD
   "execution_count": null,
=======
   "execution_count": 1,
>>>>>>> 50c374cf461151a47f921e09284944754f5789d9
   "metadata": {},
   "outputs": [],
   "source": [
    "from SALib.sample import saltelli\n",
    "from SALib.analyze import sobol\n",
    "from SALib.test_functions import Ishigami\n",
    "import numpy as np\n",
    "import ineqpy #to install go to git folder/DataAnalysis/IneqPy Python Lib -> run \"pip install .\"\n",
    "import matplotlib.pyplot as plt\n",
    "from os import path\n",
    "import main as sugar\n",
    "\n",
    "import time\n",
    "from IPython.display import clear_output\n",
    "\n",
<<<<<<< HEAD
    "runstorun = [30, 39] # lower and upper, both inclusive!\n",
    "runsfilename = f\"sensitivity_analysis_runs_{runstorun[0]}_{runstorun[1]}.npy\"\n",
    "samplesfilename = \"sensitivity_analysis_samples.npy\"\n",
    "\n",
    "\n"
=======
    "runstorun = [0, 799] # lower and upper, both inclusive!\n",
    "nsamples = 600\n",
    "data_dir = \"data_sensanalysis/\"\n",
    "runsfilename = f\"data_sensanalysis/sensitivity_analysis_{nsamples}_runs_{runstorun[0]}_{runstorun[1]}.npy\"\n",
    "samplesfilename = f\"data_sensanalysis/sensitivity_analysis_{nsamples}_samples.npy\""
>>>>>>> 50c374cf461151a47f921e09284944754f5789d9
   ]
  },
  {
   "cell_type": "code",
<<<<<<< HEAD
   "execution_count": null,
   "metadata": {},
   "outputs": [],
=======
   "execution_count": 2,
   "metadata": {},
   "outputs": [
    {
     "name": "stdout",
     "output_type": "stream",
     "text": [
      "Samples found and loaded\n",
      "4800  runs todo, first 10:\n",
      " [[9.39453125e+01 1.87011719e+00 5.66699219e+00 6.76757812e-01\n",
      "  2.80273438e-01 9.07226562e-01]\n",
      " [5.91796875e+01 1.87011719e+00 5.66699219e+00 6.76757812e-01\n",
      "  2.80273438e-01 9.07226562e-01]\n",
      " [9.39453125e+01 9.09472656e+00 5.66699219e+00 6.76757812e-01\n",
      "  2.80273438e-01 9.07226562e-01]\n",
      " [9.39453125e+01 1.87011719e+00 5.50878906e+00 6.76757812e-01\n",
      "  2.80273438e-01 9.07226562e-01]\n",
      " [9.39453125e+01 1.87011719e+00 5.66699219e+00 6.93359375e-02\n",
      "  2.80273438e-01 9.07226562e-01]\n",
      " [9.39453125e+01 1.87011719e+00 5.66699219e+00 6.76757812e-01\n",
      "  8.49609375e-02 9.07226562e-01]\n",
      " [9.39453125e+01 1.87011719e+00 5.66699219e+00 6.76757812e-01\n",
      "  2.80273438e-01 2.54882812e-01]\n",
      " [5.91796875e+01 9.09472656e+00 5.50878906e+00 6.93359375e-02\n",
      "  8.49609375e-02 2.54882812e-01]\n",
      " [1.93945312e+02 6.37011719e+00 1.16699219e+00 1.76757812e-01\n",
      "  7.80273438e-01 4.07226562e-01]\n",
      " [1.59179688e+02 6.37011719e+00 1.16699219e+00 1.76757812e-01\n",
      "  7.80273438e-01 4.07226562e-01]]\n"
     ]
    }
   ],
>>>>>>> 50c374cf461151a47f921e09284944754f5789d9
   "source": [
    "# Define the model inputs\n",
    "problem = {\n",
    "    'num_vars': 6,\n",
    "    'names': ['N agents', 'vision', 'Total initial sugar', 'Use Amsterdam map', \"Use death\", \"Use instant regrowth\"],\n",
    "    'bounds': [[50, 250], # NAgents\n",
    "               [1, 10], #Vision\n",
    "               [1, 10], #Total init sugar\n",
    "               [0, 1], #Amsterdam map\n",
    "               [0, 1], #Death\n",
    "               [0, 1]] #Instant_regrowth\n",
    "}\n",
    "\n",
    "# load samples if exist, otherwise create\n",
    "samples = None\n",
    "if path.exists(samplesfilename):\n",
    "    samples = np.load(samplesfilename)\n",
    "    print(\"Samples found and loaded\")\n",
    "else:\n",
    "    # Generate samples\n",
    "    samples = saltelli.sample(problem, nsamples, calc_second_order=False) # 1000 samples\n",
    "    np.save(samplesfilename, samples)\n",
    "    print(\"Samples created and saved\")\n",
    "\n",
    "print(len(samples),\" runs todo, first 10:\\n\",samples[:10])"
   ]
  },
  {
   "cell_type": "code",
   "execution_count": 3,
   "metadata": {},
   "outputs": [],
   "source": [
    "def runmodel(params):\n",
    "    # set parameters\n",
    "    N = int(round(params[0]))\n",
    "    vision = int(round(params[1]))\n",
    "    total_init_sugar = params[2]\n",
    "    \n",
    "    useamsmap = True\n",
    "    if int(round(params[3])) == 0:\n",
    "        useamsmap = False\n",
    "    \n",
    "    \n",
    "    usedeath = True\n",
    "    if int(round(params[4])) == 0:\n",
    "        usedeath = False\n",
    "    \n",
    "    useinstantregrowth = True\n",
    "    if int(round(params[5])) ==0:\n",
    "        usedeath = False\n",
    "\n",
    "    parameters = N, vision, total_init_sugar, useamsmap, usedeath, useinstantregrowth\n",
    "\n",
    "    print(parameters)\n",
    "\n",
    "    # run model\n",
    "    df = sugar.main(parameters)\n",
    "    df = df.reset_index()\n",
    "    \n",
    "    # extract gini from last timestep\n",
    "    maxstep = max(df[\"Step\"].tolist())\n",
    "    print(maxstep)\n",
    "    wealth = np.array(df.loc[(df.Step > (maxstep - 50))][\"Wealth\"].tolist() )\n",
    "    gini = ineqpy.gini(np.array(wealth))\n",
    "    \n",
    "    return gini\n",
    "\n",
    "# def runmodel(params):\n",
    "# #     time.sleep(1)\n",
    "#     return np.random.rand()\n",
    "\n",
    "# print(runmodel(samples[0]))"
   ]
  },
  {
   "cell_type": "markdown",
   "metadata": {},
   "source": [
    "# Run simulations"
   ]
  },
  {
   "cell_type": "code",
   "execution_count": 4,
   "metadata": {},
   "outputs": [
    {
     "name": "stdout",
     "output_type": "stream",
     "text": [
      "Runs found and loaded\n"
     ]
    }
   ],
   "source": [
    "# load runsfile if exists\n",
    "runs = None\n",
    "if path.exists(runsfilename):\n",
    "    runs = np.load(runsfilename)\n",
    "    print(\"Runs found and loaded\")\n",
    "else:\n",
    "    runs = [\"NaN\"] * len(samples)\n",
    "    np.save(runsfilename, runs)\n",
    "    print(\"Runs file created and saved\")\n",
    "\n",
    "runs_todo = [i for i, x in enumerate(runs) if x == \"NaN\" and i >= runstorun[0] and i<= runstorun[1]]\n",
    "# print(\"current runs result: \", runs)\n",
    "# print(\"Runs todo: \", runs_todo)"
   ]
  },
  {
   "cell_type": "code",
   "execution_count": 5,
   "metadata": {},
   "outputs": [
    {
     "name": "stdout",
     "output_type": "stream",
     "text": [
<<<<<<< HEAD
      "Eta (seconds):  0\n",
      "Progress:       9 / 9\n",
      "Runs failed:    [34, 39]\n"
=======
      "Runs failed:    []\n"
>>>>>>> 50c374cf461151a47f921e09284944754f5789d9
     ]
    }
   ],
   "source": [
    "calculation_durations = []\n",
    "failed_runs = []\n",
    "for i, run in enumerate(runs_todo):\n",
    "    \n",
    "    start = time.perf_counter()\n",
    "    \n",
    "    try:\n",
    "        runs[run] = runmodel(samples[run])\n",
    "    except:\n",
    "        failed_runs.append(run)\n",
    "        \n",
    "    np.save(runsfilename, runs)\n",
    "    \n",
    "    stop =  time.perf_counter()\n",
    "    calculation_durations.append(stop - start)\n",
    "    \n",
    "    clear_output(wait=False)\n",
    "    \n",
    "    print(\"Eta (seconds): \", round((len(runs_todo) - (i + 1)) * np.mean(calculation_durations)))\n",
    "    print(\"Progress:      \", i+1, \"/\", len(runs_todo))\n",
    "\n",
    "print(\"Runs failed:   \", failed_runs)"
   ]
  },
  {
   "cell_type": "markdown",
   "metadata": {},
   "source": [
    "# Analysis"
   ]
  },
  {
   "cell_type": "code",
   "execution_count": 6,
   "metadata": {},
   "outputs": [
    {
     "name": "stdout",
     "output_type": "stream",
     "text": [
      "sensitivity_analysis_600_runs\n",
      "['sensitivity_analysis_600_runs_0_799.npy', 'sensitivity_analysis_600_runs_1600_2399.npy', 'sensitivity_analysis_600_runs_2400_3199.npy', 'sensitivity_analysis_600_runs_3200_3999.npy', 'sensitivity_analysis_600_runs_4000_4799.npy', 'sensitivity_analysis_600_runs_800_1599.npy']\n",
      "['sensitivity_analysis_600_runs_0_799.npy', 'sensitivity_analysis_600_runs_1600_2399.npy', 'sensitivity_analysis_600_runs_2400_3199.npy', 'sensitivity_analysis_600_runs_3200_3999.npy', 'sensitivity_analysis_600_runs_4000_4799.npy', 'sensitivity_analysis_600_runs_800_1599.npy']  loaded\n",
      "4800 Should equal 4800\n"
     ]
    }
   ],
   "source": [
    "# load multiple runs files and merge\n",
    "\n",
    "from os import listdir\n",
    "from os.path import isfile, join\n",
    "\n",
    "print(f\"sensitivity_analysis_{nsamples}_runs\")\n",
    "data_dir = \"data_sensanalysis/\"\n",
    "rundata_filenames = [f for f in listdir(data_dir) if isfile(join(data_dir, f))]\n",
    "rundata_filenames = [f for f in rundata_filenames if f.startswith(f\"sensitivity_analysis_{nsamples}_runs\")]\n",
    "\n",
    "print(rundata_filenames)\n",
    "\n",
    "ginis = [\"NaN\"] * len(runs)\n",
    "for file in rundata_filenames:\n",
    "    rundata = np.load(data_dir + file)\n",
    "    for i, result in enumerate(rundata):\n",
    "        if result != \"NaN\":\n",
    "            ginis[i] = result\n",
    "ginis = np.array(ginis).astype(np.float)\n",
    "print(rundata_filenames, \" loaded\")\n",
    "# print(ginis)\n",
    "print(len(ginis), \"Should equal\", len(samples))"
   ]
  },
  {
   "cell_type": "code",
   "execution_count": 7,
   "metadata": {},
   "outputs": [
    {
     "name": "stdout",
     "output_type": "stream",
     "text": [
      "Parameter S1 S1_conf ST ST_conf\n",
      "N agents -0.001501 0.011865 0.014331 0.002309\n",
      "vision 0.141894 0.057986 0.225201 0.036201\n",
      "Total initial sugar -0.005159 0.010901 0.010678 0.001819\n",
      "Use Amsterdam map 0.378659 0.076185 0.497435 0.061925\n",
      "Use death 0.114591 0.062572 0.281434 0.046279\n",
      "Use instant regrowth 0.091454 0.065671 0.279642 0.048370\n"
     ]
    },
    {
     "data": {
      "image/png": "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\n",
      "text/plain": [
       "<Figure size 432x288 with 1 Axes>"
      ]
     },
     "metadata": {
      "needs_background": "light"
     },
     "output_type": "display_data"
    }
   ],
   "source": [
    "# Perform analysis\n",
    "Si = sobol.analyze(problem, ginis, print_to_console=True, calc_second_order=False)\n",
    "\n",
    "S1 = Si['S1']\n",
    "S1_conf = Si['S1_conf']\n",
    "\n",
    "ST = Si['ST']\n",
    "ST_conf = Si['ST_conf']\n",
    "\n",
    "plt.errorbar([val - 0.1 for val in np.arange(len(S1))], S1, yerr=S1_conf, fmt='o', label = r\"S$_{1}$\")\n",
    "plt.errorbar([val + 0.1 for val in np.arange(len(ST))], ST, yerr=ST_conf, fmt='o', label = \"S$_{Total}$\")\n",
    "plt.xticks(np.arange(len(S1)), problem[\"names\"], rotation=20)\n",
    "plt.legend()\n",
    "plt.show()"
   ]
  },
  {
   "cell_type": "code",
   "execution_count": null,
   "metadata": {},
   "outputs": [],
   "source": []
  },
  {
   "cell_type": "code",
   "execution_count": null,
   "metadata": {},
   "outputs": [],
   "source": []
  }
 ],
 "metadata": {
  "kernelspec": {
   "display_name": "Python 3",
   "language": "python",
   "name": "python3"
  },
  "language_info": {
   "codemirror_mode": {
    "name": "ipython",
    "version": 3
   },
   "file_extension": ".py",
   "mimetype": "text/x-python",
   "name": "python",
   "nbconvert_exporter": "python",
   "pygments_lexer": "ipython3",
   "version": "3.7.4"
  }
 },
 "nbformat": 4,
 "nbformat_minor": 4
}
