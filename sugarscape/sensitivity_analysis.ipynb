{
 "cells": [
  {
   "cell_type": "code",
   "execution_count": 1,
   "metadata": {},
   "outputs": [],
   "source": [
    "from SALib.sample import saltelli\n",
    "from SALib.analyze import sobol\n",
    "from SALib.test_functions import Ishigami\n",
    "import numpy as np\n",
    "import ineqpy\n",
    "import matplotlib.pyplot as plt\n",
    "from os import path\n",
    "import main as sugar\n",
    "\n",
    "runstorun = [5, 10] # lower and upper, both inclusive\n",
    "runsfilename = f\"sensitivity_analysis_runs_{runstorun[0]}_{runstorun[1]}.npy\"\n",
    "samplesfilename = \"sensitivity_analysis_samples.npy\""
   ]
  },
  {
   "cell_type": "code",
   "execution_count": 2,
   "metadata": {},
   "outputs": [
    {
     "name": "stdout",
     "output_type": "stream",
     "text": [
      "0.532061666754642\n"
     ]
    }
   ],
   "source": [
    "def runmodel(params):\n",
    "    # set parameters\n",
    "    N = int(params[2])\n",
    "    size = 99\n",
    "    vision = int(params[0])\n",
    "    tax_brackets = [0,0]\n",
    "    tax_percentages = [0,0]\n",
    "    inheritance_tax_brackets = [0, 10, 30, 50, 100]\n",
    "    inheritance_tax_percentages = [0, 0.3, 0.3, 0.35, 0.6]\n",
    "    starting_wealth = int(params[1])\n",
    "    steps = 300\n",
    "    \n",
    "    parameters = N, size, vision, tax_brackets, tax_percentages, inheritance_tax_brackets, inheritance_tax_percentages, starting_wealth, steps\n",
    "\n",
    "    # run model\n",
    "    df = sugar.main(parameters)\n",
    "    df = df.reset_index()\n",
    "    \n",
    "    # extract gini from last timestep\n",
    "    maxstep = max(df[\"Step\"].tolist())\n",
    "    wealth = np.array(df.loc[(df.Step == maxstep)][\"Wealth\"].tolist() )\n",
    "    gini = ineqpy.gini(np.array(wealth))\n",
    "    \n",
    "    return gini\n",
    "\n",
    "def runmodel(params):\n",
    "    return np.random.rand()\n",
    "\n",
    "print(runmodel([2.0, 2.0, 5.0]))"
   ]
  },
  {
   "cell_type": "code",
   "execution_count": 6,
   "metadata": {},
   "outputs": [
    {
     "name": "stdout",
     "output_type": "stream",
     "text": [
      "Samples found and loaded\n",
      "80  samples, first 10:\n",
      " [[3.75781250e+02 1.87011719e+00 5.66699219e+00 6.76757812e-01\n",
      "  2.80273438e-01 9.07226562e-01]\n",
      " [2.36718750e+02 1.87011719e+00 5.66699219e+00 6.76757812e-01\n",
      "  2.80273438e-01 9.07226562e-01]\n",
      " [3.75781250e+02 9.09472656e+00 5.66699219e+00 6.76757812e-01\n",
      "  2.80273438e-01 9.07226562e-01]\n",
      " [3.75781250e+02 1.87011719e+00 5.50878906e+00 6.76757812e-01\n",
      "  2.80273438e-01 9.07226562e-01]\n",
      " [3.75781250e+02 1.87011719e+00 5.66699219e+00 6.93359375e-02\n",
      "  2.80273438e-01 9.07226562e-01]\n",
      " [3.75781250e+02 1.87011719e+00 5.66699219e+00 6.76757812e-01\n",
      "  8.49609375e-02 9.07226562e-01]\n",
      " [3.75781250e+02 1.87011719e+00 5.66699219e+00 6.76757812e-01\n",
      "  2.80273438e-01 2.54882812e-01]\n",
      " [2.36718750e+02 9.09472656e+00 5.50878906e+00 6.93359375e-02\n",
      "  8.49609375e-02 2.54882812e-01]\n",
      " [7.75781250e+02 6.37011719e+00 1.16699219e+00 1.76757812e-01\n",
      "  7.80273438e-01 4.07226562e-01]\n",
      " [6.36718750e+02 6.37011719e+00 1.16699219e+00 1.76757812e-01\n",
      "  7.80273438e-01 4.07226562e-01]]\n"
     ]
    }
   ],
   "source": [
    "# Define the model inputs\n",
    "problem = {\n",
    "    'num_vars': 6,\n",
    "    'names': ['NAgents', 'Vision', 'Total_init_sugar', 'Amsterdam_map', \"Death\", \"Instant_regrowth\"],\n",
    "    'bounds': [[200, 1000], # NAgents\n",
    "               [1, 10], #Vision\n",
    "               [1, 10], #Total init sugar\n",
    "               [0, 1], #Amsterdam map\n",
    "               [0, 1], #Death\n",
    "               [0, 1]] #Instant_regrowth\n",
    "}\n",
    "\n",
    "# load samples if exist, otherwise create\n",
    "samples = None\n",
    "if path.exists(samplesfilename):\n",
    "    samples = np.load(samplesfilename)\n",
    "    print(\"Samples found and loaded\")\n",
    "else:\n",
    "    # Generate samples\n",
    "    samples = saltelli.sample(problem, 10, calc_second_order=False) # 1000 samples\n",
    "    np.save(samplesfilename, samples)\n",
    "    print(\"Samples created and saved\")\n",
    "\n",
    "print(len(samples),\" samples, first 10:\\n\",samples[:10])"
   ]
  },
  {
   "cell_type": "code",
   "execution_count": null,
   "metadata": {},
   "outputs": [],
   "source": [
    "# load runs\n",
    "runs = None\n",
    "if path.exists(runsfilename):\n",
    "    runs = np.load(runsfilename)\n",
    "    print(\"Runs found and loaded\")\n",
    "else:\n",
    "    runs = [\"NaN\"] * len(samples)\n",
    "    np.save(runsfilename, runs)\n",
    "    print(\"Runs file created and saved\")\n",
    "\n",
    "runs_todo = [i for i, x in enumerate(runs) if x == \"NaN\"]\n",
    "print(\"current runs result: \", runs)\n",
    "print(\"Runs todo: \", runs_todo)"
   ]
  },
  {
   "cell_type": "markdown",
   "metadata": {},
   "source": [
    "# Run simulations"
   ]
  },
  {
   "cell_type": "code",
   "execution_count": null,
   "metadata": {},
   "outputs": [],
   "source": [
    "print(\"Current run: \")\n",
    "for run in runs_todo:\n",
    "    if run >= runstorun[0] and run <= runstorun[1]:\n",
    "        print(run, end = \" \")\n",
    "        runs[run] = runmodel(samples[run])\n",
    "        np.save(runsfilename, runs)"
   ]
  },
  {
   "cell_type": "markdown",
   "metadata": {},
   "source": [
    "# Analysis"
   ]
  },
  {
   "cell_type": "code",
   "execution_count": null,
   "metadata": {},
   "outputs": [],
   "source": [
    "ginis = np.array(runs)\n",
    "print(\"\\n\\n\\n\")\n",
    "\n",
    "# Perform analysis\n",
    "Si = sobol.analyze(problem, ginis, print_to_console=True, calc_second_order=False)\n",
    "\n",
    "# # Print the first-order sensitivity indices\n",
    "# print(Si['S1'])\n",
    "\n",
    "S1 = Si['S1']\n",
    "S1_conf = Si['S1_conf']\n",
    "\n",
    "print(S1, \"\\n\", S1_conf)\n",
    "\n",
    "# S1 = [1, 2, 3]\n",
    "# S1_conf = [0.5, 0.4, 0.3]\n",
    "\n",
    "plt.errorbar(np.arange(len(S1)), S1, yerr=S1_conf, fmt='o')\n",
    "# plt.ylim((0, 10))\n",
    "# plt.xticks(np.arange(len(S1)), (\"var1\", \"var2\", \"var3\"))\n",
    "plt.show()"
   ]
  },
  {
   "cell_type": "code",
   "execution_count": null,
   "metadata": {},
   "outputs": [],
   "source": []
  }
 ],
 "metadata": {
  "kernelspec": {
   "display_name": "Python 3",
   "language": "python",
   "name": "python3"
  },
  "language_info": {
   "codemirror_mode": {
    "name": "ipython",
    "version": 3
   },
   "file_extension": ".py",
   "mimetype": "text/x-python",
   "name": "python",
   "nbconvert_exporter": "python",
   "pygments_lexer": "ipython3",
   "version": "3.8.5"
  }
 },
 "nbformat": 4,
 "nbformat_minor": 4
}
