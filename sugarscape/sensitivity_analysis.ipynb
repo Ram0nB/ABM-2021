{
 "cells": [
  {
   "cell_type": "code",
   "execution_count": 1,
   "metadata": {},
   "outputs": [],
   "source": [
    "from SALib.sample import saltelli\n",
    "from SALib.analyze import sobol\n",
    "from SALib.test_functions import Ishigami\n",
    "import numpy as np\n",
    "import ineqpy\n",
    "import matplotlib.pyplot as plt\n",
    "from os import path\n",
    "import main as sugar\n",
    "\n",
    "import time\n",
    "from IPython.display import clear_output\n",
    "\n",
    "runstorun = [0, 479] # lower and upper, both inclusive!\n",
    "nsamples = 600\n",
    "data_dir = \"data_sensanalysis/\"\n",
    "runsfilename = f\"data_sensanalysis/sensitivity_analysis_{nsamples}_runs_{runstorun[0]}_{runstorun[1]}.npy\"\n",
    "samplesfilename = f\"data_sensanalysis/sensitivity_analysis_{nsamples}_samples.npy\""
   ]
  },
  {
   "cell_type": "code",
   "execution_count": 2,
   "metadata": {},
   "outputs": [
    {
     "name": "stdout",
     "output_type": "stream",
     "text": [
      "Samples created and saved\n",
      "4800  runs todo, first 10:\n",
      " [[9.39453125e+01 1.87011719e+00 5.66699219e+00 6.76757812e-01\n",
      "  2.80273438e-01 9.07226562e-01]\n",
      " [5.91796875e+01 1.87011719e+00 5.66699219e+00 6.76757812e-01\n",
      "  2.80273438e-01 9.07226562e-01]\n",
      " [9.39453125e+01 9.09472656e+00 5.66699219e+00 6.76757812e-01\n",
      "  2.80273438e-01 9.07226562e-01]\n",
      " [9.39453125e+01 1.87011719e+00 5.50878906e+00 6.76757812e-01\n",
      "  2.80273438e-01 9.07226562e-01]\n",
      " [9.39453125e+01 1.87011719e+00 5.66699219e+00 6.93359375e-02\n",
      "  2.80273438e-01 9.07226562e-01]\n",
      " [9.39453125e+01 1.87011719e+00 5.66699219e+00 6.76757812e-01\n",
      "  8.49609375e-02 9.07226562e-01]\n",
      " [9.39453125e+01 1.87011719e+00 5.66699219e+00 6.76757812e-01\n",
      "  2.80273438e-01 2.54882812e-01]\n",
      " [5.91796875e+01 9.09472656e+00 5.50878906e+00 6.93359375e-02\n",
      "  8.49609375e-02 2.54882812e-01]\n",
      " [1.93945312e+02 6.37011719e+00 1.16699219e+00 1.76757812e-01\n",
      "  7.80273438e-01 4.07226562e-01]\n",
      " [1.59179688e+02 6.37011719e+00 1.16699219e+00 1.76757812e-01\n",
      "  7.80273438e-01 4.07226562e-01]]\n"
     ]
    }
   ],
   "source": [
    "# Define the model inputs\n",
    "problem = {\n",
    "    'num_vars': 6,\n",
    "    'names': ['N agents', 'vision', 'Total initial sugar', 'Use Amsterdam map', \"Use death\", \"Use instant regrowth\"],\n",
    "    'bounds': [[50, 250], # NAgents\n",
    "               [1, 10], #Vision\n",
    "               [1, 10], #Total init sugar\n",
    "               [0, 1], #Amsterdam map\n",
    "               [0, 1], #Death\n",
    "               [0, 1]] #Instant_regrowth\n",
    "}\n",
    "\n",
    "# load samples if exist, otherwise create\n",
    "samples = None\n",
    "if path.exists(samplesfilename):\n",
    "    samples = np.load(samplesfilename)\n",
    "    print(\"Samples found and loaded\")\n",
    "else:\n",
    "    # Generate samples\n",
    "    samples = saltelli.sample(problem, nsamples, calc_second_order=False) # 1000 samples\n",
    "    np.save(samplesfilename, samples)\n",
    "    print(\"Samples created and saved\")\n",
    "\n",
    "print(len(samples),\" runs todo, first 10:\\n\",samples[:10])"
   ]
  },
  {
   "cell_type": "code",
   "execution_count": 4,
   "metadata": {},
   "outputs": [],
   "source": [
    "def runmodel(params):\n",
    "    # set parameters\n",
    "    N = int(round(params[0]))\n",
    "    vision = int(round(params[1]))\n",
    "    total_init_sugar = params[2]\n",
    "    \n",
    "    useamsmap = True\n",
    "    if int(round(params[3])) == 0:\n",
    "        useamsmap = False\n",
    "    \n",
    "    \n",
    "    usedeath = True\n",
    "    if int(round(params[4])) == 0:\n",
    "        usedeath = False\n",
    "    \n",
    "    useinstantregrowth = True\n",
    "    if int(round(params[5])) ==0:\n",
    "        usedeath = False\n",
    "\n",
    "    tax_rate = 0\n",
    "    parameters = N, vision, total_init_sugar, useamsmap, usedeath, useinstantregrowth, tax_rate\n",
    "\n",
    "    print(\"parameters:\\n\",parameters)\n",
    "\n",
    "    # run model\n",
    "    df = sugar.main(parameters)\n",
    "    df = df.reset_index()\n",
    "    \n",
    "    # extract avg gini from last 50 timestep\n",
    "    ginis = []\n",
    "    maxstep = max(df[\"Step\"].tolist())\n",
    "    for step in range(maxstep-49, maxstep+1):\n",
    "        wealth = np.array(df.loc[(df.Step == step)][\"Wealth\"].tolist() )\n",
    "        gini = ineqpy.gini(np.array(wealth))\n",
    "        ginis.append(gini)\n",
    "    \n",
    "    return np.mean(ginis)\n",
    "\n",
    "# def runmodel(params):\n",
    "# #     time.sleep(1)\n",
    "#     return np.random.rand()\n",
    "\n",
    "# because only very sometimes the model gives an non-reproducible error\n",
    "def runmodel2(params):\n",
    "    try:\n",
    "        return runmodel(params)\n",
    "    except:\n",
    "        print(\"error encountered, trying again!\")\n",
    "        return runmodel2(params)\n",
    "\n",
    "# print(runmodel2(samples[0]))"
   ]
  },
  {
   "cell_type": "markdown",
   "metadata": {},
   "source": [
    "# Run simulations"
   ]
  },
  {
   "cell_type": "code",
   "execution_count": 5,
   "metadata": {},
   "outputs": [
    {
     "name": "stdout",
     "output_type": "stream",
     "text": [
      "Runs file created and saved\n"
     ]
    }
   ],
   "source": [
    "# load runsfile if exists\n",
    "runs = None\n",
    "if path.exists(runsfilename):\n",
    "    runs = np.load(runsfilename)\n",
    "    print(\"Runs found and loaded\")\n",
    "else:\n",
    "    runs = [\"NaN\"] * len(samples)\n",
    "    np.save(runsfilename, runs)\n",
    "    print(\"Runs file created and saved\")\n",
    "\n",
    "runs_todo = [i for i, x in enumerate(runs) if x == \"NaN\" and i >= runstorun[0] and i<= runstorun[1]]\n",
    "# print(\"current runs result: \", runs)\n",
    "# print(\"Runs todo: \", runs_todo)"
   ]
  },
  {
   "cell_type": "code",
   "execution_count": null,
   "metadata": {},
   "outputs": [],
   "source": [
    "calculation_durations = []\n",
    "failed_runs = []\n",
    "for i, run in enumerate(runs_todo):\n",
    "    \n",
    "    start = time.perf_counter()\n",
    "    \n",
    "    try:\n",
    "        runs[run] = runmodel2(samples[run])\n",
    "    except:\n",
    "        failed_runs.append(run)\n",
    "        \n",
    "    np.save(runsfilename, runs)\n",
    "    \n",
    "    stop =  time.perf_counter()\n",
    "    calculation_durations.append(stop - start)\n",
    "    \n",
    "    clear_output(wait=False)\n",
    "    \n",
    "    print(\"Eta (seconds): \", round((len(runs_todo) - (i + 1)) * np.mean(calculation_durations)))\n",
    "    print(\"Progress:      \", i+1, \"/\", len(runs_todo))\n",
    "\n",
    "print(\"Runs failed:   \", failed_runs)"
   ]
  },
  {
   "cell_type": "markdown",
   "metadata": {},
   "source": [
    "# Analysis"
   ]
  },
  {
   "cell_type": "code",
   "execution_count": null,
   "metadata": {},
   "outputs": [],
   "source": [
    "# load multiple runs files and merge\n",
    "\n",
    "from os import listdir\n",
    "from os.path import isfile, join\n",
    "\n",
    "print(f\"sensitivity_analysis_{nsamples}_runs\")\n",
    "data_dir = \"data_sensanalysis/\"\n",
    "rundata_filenames = [f for f in listdir(data_dir) if isfile(join(data_dir, f))]\n",
    "rundata_filenames = [f for f in rundata_filenames if f.startswith(f\"sensitivity_analysis_{nsamples}_runs\")]\n",
    "\n",
    "print(rundata_filenames)\n",
    "\n",
    "ginis = [\"NaN\"] * len(runs)\n",
    "for file in rundata_filenames:\n",
    "    rundata = np.load(data_dir + file)\n",
    "    for i, result in enumerate(rundata):\n",
    "        if result != \"NaN\":\n",
    "            ginis[i] = result\n",
    "ginis = np.array(ginis).astype(np.float)\n",
    "print(rundata_filenames, \" loaded\")\n",
    "# print(ginis)\n",
    "print(len(ginis), \"Should equal\", len(samples))"
   ]
  },
  {
   "cell_type": "code",
   "execution_count": null,
   "metadata": {},
   "outputs": [],
   "source": [
    "# Perform analysis\n",
    "Si = sobol.analyze(problem, ginis, print_to_console=True, calc_second_order=False)\n",
    "\n",
    "S1 = Si['S1']\n",
    "S1_conf = Si['S1_conf']\n",
    "\n",
    "ST = Si['ST']\n",
    "ST_conf = Si['ST_conf']\n",
    "\n",
    "plt.errorbar([val - 0.1 for val in np.arange(len(S1))], S1, yerr=S1_conf, fmt='o', label = r\"S$_{1}$\")\n",
    "plt.errorbar([val + 0.1 for val in np.arange(len(ST))], ST, yerr=ST_conf, fmt='o', label = \"S$_{Total}$\")\n",
    "plt.xticks(np.arange(len(S1)), problem[\"names\"], rotation=20)\n",
    "plt.legend()\n",
    "plt.show()"
   ]
  },
  {
   "cell_type": "code",
   "execution_count": null,
   "metadata": {},
   "outputs": [],
   "source": []
  },
  {
   "cell_type": "code",
   "execution_count": null,
   "metadata": {},
   "outputs": [],
   "source": []
  }
 ],
 "metadata": {
  "kernelspec": {
   "display_name": "Python 3",
   "language": "python",
   "name": "python3"
  },
  "language_info": {
   "codemirror_mode": {
    "name": "ipython",
    "version": 3
   },
   "file_extension": ".py",
   "mimetype": "text/x-python",
   "name": "python",
   "nbconvert_exporter": "python",
   "pygments_lexer": "ipython3",
   "version": "3.8.5"
  }
 },
 "nbformat": 4,
 "nbformat_minor": 4
}
